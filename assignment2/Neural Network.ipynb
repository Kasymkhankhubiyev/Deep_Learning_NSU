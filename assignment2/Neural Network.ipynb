{
 "cells": [
  {
   "cell_type": "markdown",
   "metadata": {},
   "source": [
    "# Задание 2.1 - Нейронные сети\n",
    "\n",
    "В этом задании вы реализуете и натренируете настоящую нейроную сеть своими руками!\n",
    "\n",
    "В некотором смысле это будет расширением прошлого задания - нам нужно просто составить несколько линейных классификаторов вместе!\n",
    "\n",
    "<img src=\"https://i.redd.it/n9fgba8b0qr01.png\" alt=\"Stack_more_layers\" width=\"400px\"/>"
   ]
  },
  {
   "cell_type": "code",
   "execution_count": 1,
   "metadata": {},
   "outputs": [],
   "source": [
    "import numpy as np\n",
    "import matplotlib.pyplot as plt\n",
    "\n",
    "%matplotlib inline\n",
    "\n",
    "%load_ext autoreload\n",
    "%autoreload 2"
   ]
  },
  {
   "cell_type": "code",
   "execution_count": 2,
   "metadata": {},
   "outputs": [],
   "source": [
    "from dataset import load_svhn, random_split_train_val\n",
    "from gradient_check import check_layer_gradient, check_layer_param_gradient, check_model_gradient\n",
    "from layers import FullyConnectedLayer, ReLULayer\n",
    "from model import TwoLayerNet\n",
    "from trainer import Trainer, Dataset\n",
    "from optim import SGD, MomentumSGD\n",
    "from metrics import multiclass_accuracy"
   ]
  },
  {
   "cell_type": "markdown",
   "metadata": {},
   "source": [
    "# Загружаем данные\n",
    "\n",
    "И разделяем их на training и validation."
   ]
  },
  {
   "cell_type": "code",
   "execution_count": 3,
   "metadata": {},
   "outputs": [],
   "source": [
    "def prepare_for_neural_network(train_X, test_X):\n",
    "    train_flat = train_X.reshape(train_X.shape[0], -1).astype(np.float64) / 255.0\n",
    "    test_flat = test_X.reshape(test_X.shape[0], -1).astype(np.float64) / 255.0\n",
    "    \n",
    "    # Subtract mean\n",
    "    mean_image = np.mean(train_flat, axis = 0)\n",
    "    train_flat -= mean_image\n",
    "    test_flat -= mean_image\n",
    "    \n",
    "    return train_flat, test_flat\n",
    "    \n",
    "train_X, train_y, test_X, test_y = load_svhn(\"data\", max_train=10000, max_test=1000)    \n",
    "train_X, test_X = prepare_for_neural_network(train_X, test_X)\n",
    "# Split train into train and val\n",
    "train_X, train_y, val_X, val_y = random_split_train_val(train_X, train_y, num_val = 1000)"
   ]
  },
  {
   "cell_type": "markdown",
   "metadata": {},
   "source": [
    "# Как всегда, начинаем с кирпичиков\n",
    "\n",
    "Мы будем реализовывать необходимые нам слои по очереди. Каждый слой должен реализовать:\n",
    "- прямой проход (forward pass), который генерирует выход слоя по входу и запоминает необходимые данные\n",
    "- обратный проход (backward pass), который получает градиент по выходу слоя и вычисляет градиент по входу и по параметрам\n",
    "\n",
    "Начнем с ReLU, у которого параметров нет."
   ]
  },
  {
   "cell_type": "code",
   "execution_count": 4,
   "metadata": {
    "scrolled": false
   },
   "outputs": [
    {
     "name": "stdout",
     "output_type": "stream",
     "text": [
      "Gradient check passed!\n"
     ]
    }
   ],
   "source": [
    "# TODO: Implement ReLULayer layer in layers.py\n",
    "# Note: you'll need to copy implementation of the gradient_check function from the previous assignment\n",
    "\n",
    "X = np.array([[1,-2,3],\n",
    "              [-1, 2, 0.1]\n",
    "              ])\n",
    "\n",
    "assert check_layer_gradient(ReLULayer(), X)"
   ]
  },
  {
   "cell_type": "markdown",
   "metadata": {},
   "source": [
    "А теперь реализуем полносвязный слой (fully connected layer), у которого будет два массива параметров: W (weights) и B (bias).\n",
    "\n",
    "Все параметры наши слои будут использовать для параметров специальный класс `Param`, в котором будут храниться значения параметров и градиенты этих параметров, вычисляемые во время обратного прохода.\n",
    "\n",
    "Это даст возможность аккумулировать (суммировать) градиенты из разных частей функции потерь, например, из cross-entropy loss и regularization loss."
   ]
  },
  {
   "cell_type": "code",
   "execution_count": 5,
   "metadata": {},
   "outputs": [
    {
     "name": "stdout",
     "output_type": "stream",
     "text": [
      "Gradient check passed!\n",
      "Gradient check passed!\n",
      "Gradient check passed!\n"
     ]
    }
   ],
   "source": [
    "# TODO: Implement FullyConnected layer forward and backward methods\n",
    "assert check_layer_gradient(FullyConnectedLayer(3, 4), X)\n",
    "# TODO: Implement storing gradients for W and B\n",
    "assert check_layer_param_gradient(FullyConnectedLayer(3, 4), X, 'W')\n",
    "assert check_layer_param_gradient(FullyConnectedLayer(3, 4), X, 'B')"
   ]
  },
  {
   "cell_type": "markdown",
   "metadata": {},
   "source": [
    "## Создаем нейронную сеть\n",
    "\n",
    "Теперь мы реализуем простейшую нейронную сеть с двумя полносвязным слоями и нелинейностью ReLU. Реализуйте функцию `compute_loss_and_gradients`, она должна запустить прямой и обратный проход через оба слоя для вычисления градиентов.\n",
    "\n",
    "Не забудьте реализовать очистку градиентов в начале функции."
   ]
  },
  {
   "cell_type": "code",
   "execution_count": 6,
   "metadata": {},
   "outputs": [
    {
     "name": "stdout",
     "output_type": "stream",
     "text": [
      "Checking gradient for 0_W\n",
      "Gradient check passed!\n",
      "Checking gradient for 0_B\n",
      "Gradient check passed!\n",
      "Checking gradient for 2_W\n",
      "Gradient check passed!\n",
      "Checking gradient for 2_B\n",
      "Gradient check passed!\n"
     ]
    },
    {
     "data": {
      "text/plain": [
       "True"
      ]
     },
     "execution_count": 6,
     "metadata": {},
     "output_type": "execute_result"
    }
   ],
   "source": [
    "# TODO: In model.py, implement compute_loss_and_gradients function\n",
    "model = TwoLayerNet(n_input = train_X.shape[1], n_output = 10, hidden_layer_size = 3, reg = 0)\n",
    "loss = model.compute_loss_and_gradients(train_X[:2], train_y[:2])\n",
    "\n",
    "# TODO Now implement backward pass and aggregate all of the params\n",
    "check_model_gradient(model, train_X[:2], train_y[:2])"
   ]
  },
  {
   "cell_type": "markdown",
   "metadata": {},
   "source": [
    "Теперь добавьте к модели регуляризацию - она должна прибавляться к loss и делать свой вклад в градиенты."
   ]
  },
  {
   "cell_type": "code",
   "execution_count": 7,
   "metadata": {},
   "outputs": [
    {
     "name": "stdout",
     "output_type": "stream",
     "text": [
      "Checking gradient for 0_W\n",
      "Gradient check passed!\n",
      "Checking gradient for 0_B\n",
      "Gradient check passed!\n",
      "Checking gradient for 2_W\n",
      "Gradient check passed!\n",
      "Checking gradient for 2_B\n",
      "Gradient check passed!\n"
     ]
    },
    {
     "data": {
      "text/plain": [
       "True"
      ]
     },
     "execution_count": 7,
     "metadata": {},
     "output_type": "execute_result"
    }
   ],
   "source": [
    "# TODO Now implement l2 regularization in the forward and backward pass\n",
    "model_with_reg = TwoLayerNet(n_input = train_X.shape[1], n_output = 10, hidden_layer_size = 3, reg = 1e1)\n",
    "loss_with_reg = model_with_reg.compute_loss_and_gradients(train_X[:2], train_y[:2])\n",
    "assert loss_with_reg > loss and not np.isclose(loss_with_reg, loss), \\\n",
    "    \"Loss with regularization (%2.4f) should be higher than without it (%2.4f)!\" % (loss, loss_with_reg)\n",
    "\n",
    "check_model_gradient(model_with_reg, train_X[:2], train_y[:2])"
   ]
  },
  {
   "cell_type": "markdown",
   "metadata": {},
   "source": [
    "Также реализуем функцию предсказания (вычисления значения) модели на новых данных.\n",
    "\n",
    "Какое значение точности мы ожидаем увидеть до начала тренировки?"
   ]
  },
  {
   "cell_type": "code",
   "execution_count": 8,
   "metadata": {},
   "outputs": [
    {
     "data": {
      "text/plain": [
       "0.1"
      ]
     },
     "execution_count": 8,
     "metadata": {},
     "output_type": "execute_result"
    }
   ],
   "source": [
    "# Finally, implement predict function!\n",
    "\n",
    "# TODO: Implement predict function\n",
    "# What would be the value we expect?\n",
    "multiclass_accuracy(model_with_reg.predict(train_X[:30]), train_y[:30]) "
   ]
  },
  {
   "cell_type": "markdown",
   "metadata": {},
   "source": [
    "# Допишем код для процесса тренировки\n",
    "\n",
    "Если все реализовано корректно, значение функции ошибки должно уменьшаться с каждой эпохой, пусть и медленно. Не беспокойтесь пока про validation accuracy."
   ]
  },
  {
   "cell_type": "code",
   "execution_count": 9,
   "metadata": {},
   "outputs": [
    {
     "name": "stdout",
     "output_type": "stream",
     "text": [
      "Epoch 0.000000   Loss: 2.302491, Train accuracy: 0.196667, val accuracy: 0.206000\n",
      "Epoch 1.000000   Loss: 2.302451, Train accuracy: 0.196667, val accuracy: 0.206000\n",
      "Epoch 2.000000   Loss: 2.302476, Train accuracy: 0.148222, val accuracy: 0.140000\n",
      "Epoch 3.000000   Loss: 2.302536, Train accuracy: 0.196667, val accuracy: 0.206000\n",
      "Epoch 4.000000   Loss: 2.302488, Train accuracy: 0.196667, val accuracy: 0.206000\n",
      "Epoch 5.000000   Loss: 2.302381, Train accuracy: 0.196667, val accuracy: 0.206000\n",
      "Epoch 6.000000   Loss: 2.302578, Train accuracy: 0.196667, val accuracy: 0.206000\n",
      "Epoch 7.000000   Loss: 2.302424, Train accuracy: 0.196667, val accuracy: 0.206000\n",
      "Epoch 8.000000   Loss: 2.302486, Train accuracy: 0.196667, val accuracy: 0.206000\n",
      "Epoch 9.000000   Loss: 2.302473, Train accuracy: 0.196667, val accuracy: 0.206000\n",
      "Epoch 10.000000   Loss: 2.302535, Train accuracy: 0.196667, val accuracy: 0.206000\n",
      "Epoch 11.000000   Loss: 2.302558, Train accuracy: 0.196667, val accuracy: 0.206000\n",
      "Epoch 12.000000   Loss: 2.302561, Train accuracy: 0.196667, val accuracy: 0.206000\n",
      "Epoch 13.000000   Loss: 2.302531, Train accuracy: 0.196667, val accuracy: 0.206000\n",
      "Epoch 14.000000   Loss: 2.302597, Train accuracy: 0.196667, val accuracy: 0.206000\n",
      "Epoch 15.000000   Loss: 2.302473, Train accuracy: 0.196667, val accuracy: 0.206000\n",
      "Epoch 16.000000   Loss: 2.302530, Train accuracy: 0.196667, val accuracy: 0.206000\n",
      "Epoch 17.000000   Loss: 2.302513, Train accuracy: 0.148222, val accuracy: 0.140000\n",
      "Epoch 18.000000   Loss: 2.302480, Train accuracy: 0.196667, val accuracy: 0.206000\n",
      "Epoch 19.000000   Loss: 2.302503, Train accuracy: 0.196667, val accuracy: 0.206000\n"
     ]
    }
   ],
   "source": [
    "model = TwoLayerNet(n_input = train_X.shape[1], n_output = 10, hidden_layer_size = 100, reg = 1e1)\n",
    "dataset = Dataset(train_X, train_y, val_X, val_y)\n",
    "trainer = Trainer(model, dataset, SGD(), learning_rate = 1e-2)\n",
    "\n",
    "# TODO Implement missing pieces in Trainer.fit function\n",
    "# You should expect loss to go down every epoch, even if it's slow\n",
    "loss_history, train_history, val_history = trainer.fit()"
   ]
  },
  {
   "cell_type": "code",
   "execution_count": 10,
   "metadata": {},
   "outputs": [
    {
     "data": {
      "text/plain": [
       "[<matplotlib.lines.Line2D at 0x1cf8779dcc8>]"
      ]
     },
     "execution_count": 10,
     "metadata": {},
     "output_type": "execute_result"
    },
    {
     "data": {
      "image/png": "[encoded data removed]",
      "text/plain": [
       "<Figure size 432x288 with 1 Axes>"
      ]
     },
     "metadata": {
      "needs_background": "light"
     },
     "output_type": "display_data"
    }
   ],
   "source": [
    "plt.plot(train_history)\n",
    "plt.plot(val_history)"
   ]
  },
  {
   "cell_type": "markdown",
   "metadata": {},
   "source": [
    "# Улучшаем процесс тренировки\n",
    "\n",
    "Мы реализуем несколько ключевых оптимизаций, необходимых для тренировки современных нейросетей."
   ]
  },
  {
   "cell_type": "markdown",
   "metadata": {},
   "source": [
    "## Уменьшение скорости обучения (learning rate decay)\n",
    "\n",
    "Одна из необходимых оптимизаций во время тренировки нейронных сетей - постепенное уменьшение скорости обучения по мере тренировки.\n",
    "\n",
    "Один из стандартных методов - уменьшение скорости обучения (learning rate) каждые N эпох на коэффициент d (часто называемый decay). Значения N и d, как всегда, являются гиперпараметрами и должны подбираться на основе эффективности на проверочных данных (validation data). \n",
    "\n",
    "В нашем случае N будет равным 1."
   ]
  },
  {
   "cell_type": "code",
   "execution_count": 11,
   "metadata": {},
   "outputs": [
    {
     "name": "stdout",
     "output_type": "stream",
     "text": [
      "Epoch 0.000000   Loss: 2.302239, Train accuracy: 0.196667, val accuracy: 0.206000\n",
      "Epoch 1.000000   Loss: 2.308332, Train accuracy: 0.196667, val accuracy: 0.206000\n",
      "Epoch 2.000000   Loss: 2.289100, Train accuracy: 0.196667, val accuracy: 0.206000\n",
      "Epoch 3.000000   Loss: 2.306072, Train accuracy: 0.196667, val accuracy: 0.206000\n",
      "Epoch 4.000000   Loss: 2.250868, Train accuracy: 0.196667, val accuracy: 0.206000\n",
      "Epoch 5.000000   Loss: 2.291086, Train accuracy: 0.196667, val accuracy: 0.206000\n",
      "Epoch 6.000000   Loss: 2.212819, Train accuracy: 0.196667, val accuracy: 0.206000\n",
      "Epoch 7.000000   Loss: 2.325159, Train accuracy: 0.196667, val accuracy: 0.206000\n",
      "Epoch 8.000000   Loss: 2.290994, Train accuracy: 0.196667, val accuracy: 0.206000\n",
      "Epoch 9.000000   Loss: 2.313145, Train accuracy: 0.196667, val accuracy: 0.206000\n",
      "Epoch 10.000000   Loss: 2.238692, Train accuracy: 0.196667, val accuracy: 0.206000\n",
      "Epoch 11.000000   Loss: 2.286604, Train accuracy: 0.196667, val accuracy: 0.206000\n",
      "Epoch 12.000000   Loss: 2.355889, Train accuracy: 0.196667, val accuracy: 0.206000\n",
      "Epoch 13.000000   Loss: 2.233891, Train accuracy: 0.196667, val accuracy: 0.206000\n",
      "Epoch 14.000000   Loss: 2.379898, Train accuracy: 0.196667, val accuracy: 0.206000\n",
      "Epoch 15.000000   Loss: 2.259309, Train accuracy: 0.196667, val accuracy: 0.206000\n",
      "Epoch 16.000000   Loss: 2.315171, Train accuracy: 0.196667, val accuracy: 0.206000\n",
      "Epoch 17.000000   Loss: 2.272651, Train accuracy: 0.196667, val accuracy: 0.206000\n",
      "Epoch 18.000000   Loss: 2.288477, Train accuracy: 0.196667, val accuracy: 0.206000\n",
      "Epoch 19.000000   Loss: 2.297109, Train accuracy: 0.196667, val accuracy: 0.206000\n"
     ]
    }
   ],
   "source": [
    "# TODO Implement learning rate decay inside Trainer.fit method\n",
    "# Decay should happen once per epoch\n",
    "\n",
    "model = TwoLayerNet(n_input = train_X.shape[1], n_output = 10, hidden_layer_size = 100, reg = 1e-1)\n",
    "dataset = Dataset(train_X, train_y, val_X, val_y)\n",
    "trainer = Trainer(model, dataset, SGD(), learning_rate_decay=0.99)\n",
    "\n",
    "initial_learning_rate = trainer.learning_rate\n",
    "loss_history, train_history, val_history = trainer.fit()\n",
    "\n",
    "assert trainer.learning_rate < initial_learning_rate, \"Learning rate should've been reduced\"\n",
    "assert trainer.learning_rate > 0.5*initial_learning_rate, \"Learning rate shouldn'tve been reduced that much!\""
   ]
  },
  {
   "cell_type": "markdown",
   "metadata": {},
   "source": [
    "# Накопление импульса (Momentum SGD)\n",
    "\n",
    "Другой большой класс оптимизаций - использование более эффективных методов градиентного спуска. Мы реализуем один из них - накопление импульса (Momentum SGD).\n",
    "\n",
    "Этот метод хранит скорость движения, использует градиент для ее изменения на каждом шаге, и изменяет веса пропорционально значению скорости.\n",
    "(Физическая аналогия: Вместо скорости градиенты теперь будут задавать ускорение, но будет присутствовать сила трения.)\n",
    "\n",
    "```\n",
    "velocity = momentum * velocity - learning_rate * gradient \n",
    "w = w + velocity\n",
    "```\n",
    "\n",
    "`momentum` здесь коэффициент затухания, который тоже является гиперпараметром (к счастью, для него часто есть хорошее значение по умолчанию, типичный диапазон -- 0.8-0.99).\n",
    "\n",
    "Несколько полезных ссылок, где метод разбирается более подробно:  \n",
    "http://cs231n.github.io/neural-networks-3/#sgd  \n",
    "https://distill.pub/2017/momentum/"
   ]
  },
  {
   "cell_type": "code",
   "execution_count": 12,
   "metadata": {},
   "outputs": [
    {
     "name": "stdout",
     "output_type": "stream",
     "text": [
      "Epoch 0.000000   Loss: 2.328003, Train accuracy: 0.196667, val accuracy: 0.206000\n",
      "Epoch 1.000000   Loss: 2.322595, Train accuracy: 0.196667, val accuracy: 0.206000\n",
      "Epoch 2.000000   Loss: 2.320111, Train accuracy: 0.196667, val accuracy: 0.206000\n",
      "Epoch 3.000000   Loss: 2.311517, Train accuracy: 0.196667, val accuracy: 0.206000\n",
      "Epoch 4.000000   Loss: 2.309783, Train accuracy: 0.196667, val accuracy: 0.206000\n",
      "Epoch 5.000000   Loss: 2.312030, Train accuracy: 0.196667, val accuracy: 0.206000\n",
      "Epoch 6.000000   Loss: 2.305316, Train accuracy: 0.196667, val accuracy: 0.206000\n",
      "Epoch 7.000000   Loss: 2.305544, Train accuracy: 0.196667, val accuracy: 0.206000\n",
      "Epoch 8.000000   Loss: 2.302871, Train accuracy: 0.196667, val accuracy: 0.206000\n",
      "Epoch 9.000000   Loss: 2.303209, Train accuracy: 0.196667, val accuracy: 0.206000\n",
      "Epoch 10.000000   Loss: 2.301828, Train accuracy: 0.196667, val accuracy: 0.206000\n",
      "Epoch 11.000000   Loss: 2.305645, Train accuracy: 0.196667, val accuracy: 0.206000\n",
      "Epoch 12.000000   Loss: 2.297752, Train accuracy: 0.196667, val accuracy: 0.206000\n",
      "Epoch 13.000000   Loss: 2.302125, Train accuracy: 0.196667, val accuracy: 0.206000\n",
      "Epoch 14.000000   Loss: 2.301015, Train accuracy: 0.196667, val accuracy: 0.206000\n",
      "Epoch 15.000000   Loss: 2.298528, Train accuracy: 0.196667, val accuracy: 0.206000\n",
      "Epoch 16.000000   Loss: 2.298850, Train accuracy: 0.196667, val accuracy: 0.206000\n",
      "Epoch 17.000000   Loss: 2.294343, Train accuracy: 0.196667, val accuracy: 0.206000\n",
      "Epoch 18.000000   Loss: 2.292257, Train accuracy: 0.196667, val accuracy: 0.206000\n",
      "Epoch 19.000000   Loss: 2.303052, Train accuracy: 0.196667, val accuracy: 0.206000\n"
     ]
    }
   ],
   "source": [
    "# TODO: Implement MomentumSGD.update function in optim.py\n",
    "\n",
    "model = TwoLayerNet(n_input = train_X.shape[1], n_output = 10, hidden_layer_size = 100, reg = 1e-1)\n",
    "dataset = Dataset(train_X, train_y, val_X, val_y)\n",
    "trainer = Trainer(model, dataset, MomentumSGD(), learning_rate=1e-4, learning_rate_decay=0.99)\n",
    "\n",
    "# You should see even better results than before!\n",
    "loss_history, train_history, val_history = trainer.fit()"
   ]
  },
  {
   "cell_type": "markdown",
   "metadata": {},
   "source": [
    "# Ну что, давайте уже тренировать сеть!"
   ]
  },
  {
   "cell_type": "markdown",
   "metadata": {},
   "source": [
    "## Последний тест - переобучимся (overfit) на маленьком наборе данных\n",
    "\n",
    "Хороший способ проверить, все ли реализовано корректно - переобучить сеть на маленьком наборе данных.  \n",
    "Наша модель обладает достаточной мощностью, чтобы приблизить маленький набор данных идеально, поэтому мы ожидаем, что на нем мы быстро дойдем до 100% точности на тренировочном наборе. \n",
    "\n",
    "Если этого не происходит, то где-то была допущена ошибка!"
   ]
  },
  {
   "cell_type": "code",
   "execution_count": 14,
   "metadata": {},
   "outputs": [
    {
     "name": "stdout",
     "output_type": "stream",
     "text": [
      "Epoch 0.000000   Loss: 2.333937, Train accuracy: 0.200000, val accuracy: 0.066667\n",
      "Epoch 1.000000   Loss: 2.317794, Train accuracy: 0.266667, val accuracy: 0.066667\n",
      "Epoch 2.000000   Loss: 2.311414, Train accuracy: 0.333333, val accuracy: 0.066667\n",
      "Epoch 3.000000   Loss: 2.317738, Train accuracy: 0.266667, val accuracy: 0.000000\n",
      "Epoch 4.000000   Loss: 2.310963, Train accuracy: 0.266667, val accuracy: 0.000000\n",
      "Epoch 5.000000   Loss: 2.295162, Train accuracy: 0.266667, val accuracy: 0.000000\n",
      "Epoch 6.000000   Loss: 2.306700, Train accuracy: 0.266667, val accuracy: 0.000000\n",
      "Epoch 7.000000   Loss: 2.312951, Train accuracy: 0.266667, val accuracy: 0.000000\n",
      "Epoch 8.000000   Loss: 2.188086, Train accuracy: 0.400000, val accuracy: 0.000000\n",
      "Epoch 9.000000   Loss: 2.312709, Train accuracy: 0.400000, val accuracy: 0.000000\n",
      "Epoch 10.000000   Loss: 2.197881, Train accuracy: 0.400000, val accuracy: 0.000000\n",
      "Epoch 11.000000   Loss: 1.849126, Train accuracy: 0.400000, val accuracy: 0.000000\n",
      "Epoch 12.000000   Loss: 1.780270, Train accuracy: 0.333333, val accuracy: 0.000000\n",
      "Epoch 13.000000   Loss: 2.251930, Train accuracy: 0.333333, val accuracy: 0.000000\n",
      "Epoch 14.000000   Loss: 1.486206, Train accuracy: 0.333333, val accuracy: 0.000000\n",
      "Epoch 15.000000   Loss: 1.866126, Train accuracy: 0.333333, val accuracy: 0.000000\n",
      "Epoch 16.000000   Loss: 2.433965, Train accuracy: 0.333333, val accuracy: 0.000000\n",
      "Epoch 17.000000   Loss: 2.161626, Train accuracy: 0.333333, val accuracy: 0.000000\n",
      "Epoch 18.000000   Loss: 1.898055, Train accuracy: 0.333333, val accuracy: 0.000000\n",
      "Epoch 19.000000   Loss: 2.410837, Train accuracy: 0.333333, val accuracy: 0.000000\n",
      "Epoch 20.000000   Loss: 1.940008, Train accuracy: 0.333333, val accuracy: 0.000000\n",
      "Epoch 21.000000   Loss: 2.309926, Train accuracy: 0.333333, val accuracy: 0.000000\n",
      "Epoch 22.000000   Loss: 2.339107, Train accuracy: 0.400000, val accuracy: 0.000000\n",
      "Epoch 23.000000   Loss: 1.937049, Train accuracy: 0.400000, val accuracy: 0.000000\n",
      "Epoch 24.000000   Loss: 1.604362, Train accuracy: 0.400000, val accuracy: 0.000000\n",
      "Epoch 25.000000   Loss: 1.849866, Train accuracy: 0.400000, val accuracy: 0.000000\n",
      "Epoch 26.000000   Loss: 1.608855, Train accuracy: 0.400000, val accuracy: 0.000000\n",
      "Epoch 27.000000   Loss: 1.799068, Train accuracy: 0.466667, val accuracy: 0.000000\n",
      "Epoch 28.000000   Loss: 1.646099, Train accuracy: 0.466667, val accuracy: 0.000000\n",
      "Epoch 29.000000   Loss: 1.344290, Train accuracy: 0.466667, val accuracy: 0.000000\n",
      "Epoch 30.000000   Loss: 1.302868, Train accuracy: 0.466667, val accuracy: 0.000000\n",
      "Epoch 31.000000   Loss: 1.937343, Train accuracy: 0.466667, val accuracy: 0.000000\n",
      "Epoch 32.000000   Loss: 1.829499, Train accuracy: 0.466667, val accuracy: 0.000000\n",
      "Epoch 33.000000   Loss: 0.922337, Train accuracy: 0.533333, val accuracy: 0.000000\n",
      "Epoch 34.000000   Loss: 1.287374, Train accuracy: 0.600000, val accuracy: 0.000000\n",
      "Epoch 35.000000   Loss: 2.024106, Train accuracy: 0.600000, val accuracy: 0.000000\n",
      "Epoch 36.000000   Loss: 1.356417, Train accuracy: 0.600000, val accuracy: 0.000000\n",
      "Epoch 37.000000   Loss: 1.868552, Train accuracy: 0.666667, val accuracy: 0.000000\n",
      "Epoch 38.000000   Loss: 1.145049, Train accuracy: 0.666667, val accuracy: 0.000000\n",
      "Epoch 39.000000   Loss: 1.312459, Train accuracy: 0.666667, val accuracy: 0.000000\n",
      "Epoch 40.000000   Loss: 1.853885, Train accuracy: 0.666667, val accuracy: 0.000000\n",
      "Epoch 41.000000   Loss: 1.927055, Train accuracy: 0.666667, val accuracy: 0.000000\n",
      "Epoch 42.000000   Loss: 1.698139, Train accuracy: 0.666667, val accuracy: 0.000000\n",
      "Epoch 43.000000   Loss: 1.029793, Train accuracy: 0.600000, val accuracy: 0.000000\n",
      "Epoch 44.000000   Loss: 1.263701, Train accuracy: 0.600000, val accuracy: 0.000000\n",
      "Epoch 45.000000   Loss: 1.243885, Train accuracy: 0.666667, val accuracy: 0.000000\n",
      "Epoch 46.000000   Loss: 1.809255, Train accuracy: 0.600000, val accuracy: 0.000000\n",
      "Epoch 47.000000   Loss: 2.009188, Train accuracy: 0.600000, val accuracy: 0.000000\n",
      "Epoch 48.000000   Loss: 1.976258, Train accuracy: 0.600000, val accuracy: 0.000000\n",
      "Epoch 49.000000   Loss: 1.725382, Train accuracy: 0.666667, val accuracy: 0.000000\n",
      "Epoch 50.000000   Loss: 1.718600, Train accuracy: 0.733333, val accuracy: 0.000000\n",
      "Epoch 51.000000   Loss: 1.355265, Train accuracy: 0.733333, val accuracy: 0.066667\n",
      "Epoch 52.000000   Loss: 1.756636, Train accuracy: 0.733333, val accuracy: 0.000000\n",
      "Epoch 53.000000   Loss: 1.645104, Train accuracy: 0.733333, val accuracy: 0.000000\n",
      "Epoch 54.000000   Loss: 1.467615, Train accuracy: 0.733333, val accuracy: 0.066667\n",
      "Epoch 55.000000   Loss: 1.742957, Train accuracy: 0.733333, val accuracy: 0.000000\n",
      "Epoch 56.000000   Loss: 1.662766, Train accuracy: 0.733333, val accuracy: 0.000000\n",
      "Epoch 57.000000   Loss: 0.950975, Train accuracy: 0.733333, val accuracy: 0.000000\n",
      "Epoch 58.000000   Loss: 1.911569, Train accuracy: 0.733333, val accuracy: 0.066667\n",
      "Epoch 59.000000   Loss: 1.678126, Train accuracy: 0.733333, val accuracy: 0.000000\n",
      "Epoch 60.000000   Loss: 1.407856, Train accuracy: 0.733333, val accuracy: 0.066667\n",
      "Epoch 61.000000   Loss: 1.372868, Train accuracy: 0.733333, val accuracy: 0.066667\n",
      "Epoch 62.000000   Loss: 2.133259, Train accuracy: 0.733333, val accuracy: 0.000000\n",
      "Epoch 63.000000   Loss: 0.885455, Train accuracy: 0.733333, val accuracy: 0.066667\n",
      "Epoch 64.000000   Loss: 0.904529, Train accuracy: 0.733333, val accuracy: 0.000000\n",
      "Epoch 65.000000   Loss: 1.695704, Train accuracy: 0.733333, val accuracy: 0.000000\n",
      "Epoch 66.000000   Loss: 1.760834, Train accuracy: 0.733333, val accuracy: 0.066667\n",
      "Epoch 67.000000   Loss: 1.726174, Train accuracy: 0.733333, val accuracy: 0.000000\n",
      "Epoch 68.000000   Loss: 1.362958, Train accuracy: 0.733333, val accuracy: 0.066667\n",
      "Epoch 69.000000   Loss: 0.869866, Train accuracy: 0.733333, val accuracy: 0.066667\n",
      "Epoch 70.000000   Loss: 1.809623, Train accuracy: 0.733333, val accuracy: 0.000000\n",
      "Epoch 71.000000   Loss: 1.602223, Train accuracy: 0.733333, val accuracy: 0.000000\n",
      "Epoch 72.000000   Loss: 1.435857, Train accuracy: 0.733333, val accuracy: 0.066667\n",
      "Epoch 73.000000   Loss: 1.310070, Train accuracy: 0.733333, val accuracy: 0.000000\n",
      "Epoch 74.000000   Loss: 1.420249, Train accuracy: 0.733333, val accuracy: 0.000000\n",
      "Epoch 75.000000   Loss: 0.930928, Train accuracy: 0.800000, val accuracy: 0.000000\n",
      "Epoch 76.000000   Loss: 1.023011, Train accuracy: 0.800000, val accuracy: 0.000000\n",
      "Epoch 77.000000   Loss: 1.662360, Train accuracy: 0.800000, val accuracy: 0.066667\n",
      "Epoch 78.000000   Loss: 0.923455, Train accuracy: 0.800000, val accuracy: 0.000000\n",
      "Epoch 79.000000   Loss: 1.378719, Train accuracy: 0.866667, val accuracy: 0.000000\n",
      "Epoch 80.000000   Loss: 1.017884, Train accuracy: 0.866667, val accuracy: 0.000000\n",
      "Epoch 81.000000   Loss: 1.587115, Train accuracy: 0.866667, val accuracy: 0.066667\n",
      "Epoch 82.000000   Loss: 1.290608, Train accuracy: 0.866667, val accuracy: 0.066667\n",
      "Epoch 83.000000   Loss: 1.712042, Train accuracy: 0.866667, val accuracy: 0.066667\n",
      "Epoch 84.000000   Loss: 0.941492, Train accuracy: 0.866667, val accuracy: 0.066667\n",
      "Epoch 85.000000   Loss: 1.262382, Train accuracy: 0.866667, val accuracy: 0.066667\n",
      "Epoch 86.000000   Loss: 1.512804, Train accuracy: 0.866667, val accuracy: 0.066667\n",
      "Epoch 87.000000   Loss: 1.598327, Train accuracy: 0.866667, val accuracy: 0.066667\n",
      "Epoch 88.000000   Loss: 1.359766, Train accuracy: 0.866667, val accuracy: 0.066667\n",
      "Epoch 89.000000   Loss: 1.647165, Train accuracy: 0.866667, val accuracy: 0.066667\n",
      "Epoch 90.000000   Loss: 1.702833, Train accuracy: 0.866667, val accuracy: 0.000000\n",
      "Epoch 91.000000   Loss: 1.356661, Train accuracy: 0.866667, val accuracy: 0.066667\n",
      "Epoch 92.000000   Loss: 1.504936, Train accuracy: 0.866667, val accuracy: 0.066667\n",
      "Epoch 93.000000   Loss: 1.184592, Train accuracy: 0.866667, val accuracy: 0.066667\n",
      "Epoch 94.000000   Loss: 1.660633, Train accuracy: 0.866667, val accuracy: 0.066667\n",
      "Epoch 95.000000   Loss: 1.568945, Train accuracy: 0.933333, val accuracy: 0.000000\n",
      "Epoch 96.000000   Loss: 1.184369, Train accuracy: 0.866667, val accuracy: 0.066667\n",
      "Epoch 97.000000   Loss: 1.642625, Train accuracy: 0.866667, val accuracy: 0.066667\n",
      "Epoch 98.000000   Loss: 1.580958, Train accuracy: 0.933333, val accuracy: 0.066667\n"
     ]
    },
    {
     "name": "stdout",
     "output_type": "stream",
     "text": [
      "Epoch 99.000000   Loss: 1.232451, Train accuracy: 0.933333, val accuracy: 0.000000\n",
      "Epoch 100.000000   Loss: 1.129635, Train accuracy: 0.933333, val accuracy: 0.066667\n",
      "Epoch 101.000000   Loss: 1.255625, Train accuracy: 0.933333, val accuracy: 0.066667\n",
      "Epoch 102.000000   Loss: 1.277714, Train accuracy: 0.933333, val accuracy: 0.066667\n",
      "Epoch 103.000000   Loss: 1.272459, Train accuracy: 0.933333, val accuracy: 0.066667\n",
      "Epoch 104.000000   Loss: 1.544072, Train accuracy: 0.933333, val accuracy: 0.066667\n",
      "Epoch 105.000000   Loss: 1.074981, Train accuracy: 0.933333, val accuracy: 0.066667\n",
      "Epoch 106.000000   Loss: 1.221890, Train accuracy: 0.933333, val accuracy: 0.066667\n",
      "Epoch 107.000000   Loss: 1.508199, Train accuracy: 0.933333, val accuracy: 0.066667\n",
      "Epoch 108.000000   Loss: 1.265740, Train accuracy: 0.933333, val accuracy: 0.066667\n",
      "Epoch 109.000000   Loss: 1.093197, Train accuracy: 0.933333, val accuracy: 0.000000\n",
      "Epoch 110.000000   Loss: 1.078182, Train accuracy: 0.933333, val accuracy: 0.000000\n",
      "Epoch 111.000000   Loss: 1.396701, Train accuracy: 0.933333, val accuracy: 0.000000\n",
      "Epoch 112.000000   Loss: 1.196835, Train accuracy: 0.933333, val accuracy: 0.000000\n",
      "Epoch 113.000000   Loss: 1.500422, Train accuracy: 0.933333, val accuracy: 0.000000\n",
      "Epoch 114.000000   Loss: 1.411617, Train accuracy: 0.933333, val accuracy: 0.000000\n",
      "Epoch 115.000000   Loss: 1.378281, Train accuracy: 0.933333, val accuracy: 0.000000\n",
      "Epoch 116.000000   Loss: 1.541671, Train accuracy: 1.000000, val accuracy: 0.000000\n",
      "Epoch 117.000000   Loss: 1.520645, Train accuracy: 1.000000, val accuracy: 0.000000\n",
      "Epoch 118.000000   Loss: 1.291475, Train accuracy: 1.000000, val accuracy: 0.000000\n",
      "Epoch 119.000000   Loss: 1.483820, Train accuracy: 1.000000, val accuracy: 0.000000\n",
      "Epoch 120.000000   Loss: 1.092267, Train accuracy: 1.000000, val accuracy: 0.000000\n",
      "Epoch 121.000000   Loss: 1.156399, Train accuracy: 1.000000, val accuracy: 0.000000\n",
      "Epoch 122.000000   Loss: 1.312057, Train accuracy: 1.000000, val accuracy: 0.000000\n",
      "Epoch 123.000000   Loss: 1.375706, Train accuracy: 1.000000, val accuracy: 0.000000\n",
      "Epoch 124.000000   Loss: 1.187760, Train accuracy: 1.000000, val accuracy: 0.000000\n",
      "Epoch 125.000000   Loss: 1.178739, Train accuracy: 1.000000, val accuracy: 0.000000\n",
      "Epoch 126.000000   Loss: 1.030843, Train accuracy: 1.000000, val accuracy: 0.000000\n",
      "Epoch 127.000000   Loss: 1.444193, Train accuracy: 0.933333, val accuracy: 0.000000\n",
      "Epoch 128.000000   Loss: 1.419100, Train accuracy: 1.000000, val accuracy: 0.000000\n",
      "Epoch 129.000000   Loss: 1.049936, Train accuracy: 1.000000, val accuracy: 0.000000\n",
      "Epoch 130.000000   Loss: 1.255490, Train accuracy: 0.933333, val accuracy: 0.000000\n",
      "Epoch 131.000000   Loss: 1.417001, Train accuracy: 1.000000, val accuracy: 0.000000\n",
      "Epoch 132.000000   Loss: 1.441178, Train accuracy: 1.000000, val accuracy: 0.000000\n",
      "Epoch 133.000000   Loss: 1.260513, Train accuracy: 1.000000, val accuracy: 0.000000\n",
      "Epoch 134.000000   Loss: 1.077556, Train accuracy: 1.000000, val accuracy: 0.000000\n",
      "Epoch 135.000000   Loss: 1.598049, Train accuracy: 1.000000, val accuracy: 0.000000\n",
      "Epoch 136.000000   Loss: 1.467817, Train accuracy: 1.000000, val accuracy: 0.000000\n",
      "Epoch 137.000000   Loss: 1.271817, Train accuracy: 1.000000, val accuracy: 0.000000\n",
      "Epoch 138.000000   Loss: 1.149556, Train accuracy: 1.000000, val accuracy: 0.000000\n",
      "Epoch 139.000000   Loss: 1.402210, Train accuracy: 1.000000, val accuracy: 0.000000\n",
      "Epoch 140.000000   Loss: 1.337246, Train accuracy: 1.000000, val accuracy: 0.000000\n",
      "Epoch 141.000000   Loss: 1.566721, Train accuracy: 1.000000, val accuracy: 0.000000\n",
      "Epoch 142.000000   Loss: 1.395437, Train accuracy: 1.000000, val accuracy: 0.000000\n",
      "Epoch 143.000000   Loss: 1.310198, Train accuracy: 1.000000, val accuracy: 0.000000\n",
      "Epoch 144.000000   Loss: 1.294743, Train accuracy: 1.000000, val accuracy: 0.000000\n",
      "Epoch 145.000000   Loss: 1.253067, Train accuracy: 1.000000, val accuracy: 0.000000\n",
      "Epoch 146.000000   Loss: 1.413489, Train accuracy: 1.000000, val accuracy: 0.000000\n",
      "Epoch 147.000000   Loss: 1.370860, Train accuracy: 1.000000, val accuracy: 0.000000\n",
      "Epoch 148.000000   Loss: 1.352736, Train accuracy: 1.000000, val accuracy: 0.000000\n",
      "Epoch 149.000000   Loss: 1.274250, Train accuracy: 1.000000, val accuracy: 0.000000\n"
     ]
    }
   ],
   "source": [
    "data_size = 15\n",
    "model = TwoLayerNet(n_input = train_X.shape[1], n_output = 10, hidden_layer_size = 100, reg = 1e-1)\n",
    "dataset = Dataset(train_X[:data_size], train_y[:data_size], val_X[:data_size], val_y[:data_size])\n",
    "trainer = Trainer(model, dataset, SGD(), learning_rate=1e-1, num_epochs=150, batch_size=5)\n",
    "\n",
    "# You should expect this to reach 1.0 training accuracy \n",
    "loss_history, train_history, val_history = trainer.fit()"
   ]
  },
  {
   "cell_type": "markdown",
   "metadata": {},
   "source": [
    "Теперь найдем гипепараметры, для которых этот процесс сходится быстрее.\n",
    "Если все реализовано корректно, то существуют параметры, при которых процесс сходится в **20** эпох или еще быстрее.\n",
    "Найдите их!"
   ]
  },
  {
   "cell_type": "code",
   "execution_count": 15,
   "metadata": {},
   "outputs": [
    {
     "name": "stdout",
     "output_type": "stream",
     "text": [
      "Epoch 0.000000   Loss: 2.304164, Train accuracy: 0.200000, val accuracy: 0.133333\n",
      "Epoch 1.000000   Loss: 2.300611, Train accuracy: 0.200000, val accuracy: 0.133333\n",
      "Epoch 2.000000   Loss: 2.294768, Train accuracy: 0.333333, val accuracy: 0.133333\n",
      "Epoch 3.000000   Loss: 2.280846, Train accuracy: 0.333333, val accuracy: 0.066667\n",
      "Epoch 4.000000   Loss: 2.226447, Train accuracy: 0.333333, val accuracy: 0.066667\n",
      "Epoch 5.000000   Loss: 2.021206, Train accuracy: 0.333333, val accuracy: 0.000000\n",
      "Epoch 6.000000   Loss: 1.801513, Train accuracy: 0.266667, val accuracy: 0.000000\n",
      "Epoch 7.000000   Loss: 1.818511, Train accuracy: 0.333333, val accuracy: 0.000000\n",
      "Epoch 8.000000   Loss: 1.670517, Train accuracy: 0.533333, val accuracy: 0.000000\n",
      "Epoch 9.000000   Loss: 1.674403, Train accuracy: 0.466667, val accuracy: 0.000000\n",
      "Epoch 10.000000   Loss: 1.356496, Train accuracy: 0.533333, val accuracy: 0.000000\n",
      "Epoch 11.000000   Loss: 1.244227, Train accuracy: 0.533333, val accuracy: 0.133333\n",
      "Epoch 12.000000   Loss: 1.224683, Train accuracy: 0.600000, val accuracy: 0.000000\n",
      "Epoch 13.000000   Loss: 1.090254, Train accuracy: 0.666667, val accuracy: 0.066667\n",
      "Epoch 14.000000   Loss: 0.910803, Train accuracy: 0.666667, val accuracy: 0.000000\n",
      "Epoch 15.000000   Loss: 0.791945, Train accuracy: 0.733333, val accuracy: 0.066667\n",
      "Epoch 16.000000   Loss: 0.694649, Train accuracy: 0.733333, val accuracy: 0.000000\n",
      "Epoch 17.000000   Loss: 0.629865, Train accuracy: 0.733333, val accuracy: 0.000000\n",
      "Epoch 18.000000   Loss: 0.584942, Train accuracy: 0.866667, val accuracy: 0.000000\n",
      "Epoch 19.000000   Loss: 0.549306, Train accuracy: 0.933333, val accuracy: 0.000000\n"
     ]
    }
   ],
   "source": [
    "# Now, tweak some hyper parameters and make it train to 1.0 accuracy in 20 epochs or less\n",
    "\n",
    "model = TwoLayerNet(n_input = train_X.shape[1], n_output = 10, hidden_layer_size = 100, reg = 5e-3)\n",
    "dataset = Dataset(train_X[:data_size], train_y[:data_size], val_X[:data_size], val_y[:data_size])\n",
    "# TODO: Change any hyperparamers or optimizators to reach training accuracy in 20 epochs\n",
    "trainer = Trainer(model, dataset, MomentumSGD(momentum = 0.3), learning_rate=6e-1, num_epochs=20, batch_size=120)\n",
    "\n",
    "loss_history, train_history, val_history = trainer.fit()"
   ]
  },
  {
   "cell_type": "markdown",
   "metadata": {},
   "source": [
    "# Итак, основное мероприятие!\n",
    "\n",
    "Натренируйте лучшую нейросеть! Можно добавлять и изменять параметры, менять количество нейронов в слоях сети и как угодно экспериментировать. \n",
    "\n",
    "Добейтесь точности лучше **60%** на validation set."
   ]
  },
  {
   "cell_type": "code",
   "execution_count": 21,
   "metadata": {
    "scrolled": true
   },
   "outputs": [
    {
     "name": "stdout",
     "output_type": "stream",
     "text": [
      "\n",
      "Cycle 1...\n",
      "Epoch 0.000000   Loss: 2.302630, Train accuracy: 0.114222, val accuracy: 0.147000\n",
      "Epoch 1.000000   Loss: 2.302254, Train accuracy: 0.114222, val accuracy: 0.147000\n",
      "Epoch 2.000000   Loss: 2.302047, Train accuracy: 0.196667, val accuracy: 0.206000\n",
      "Epoch 3.000000   Loss: 2.301775, Train accuracy: 0.196667, val accuracy: 0.206000\n",
      "Epoch 4.000000   Loss: 2.301768, Train accuracy: 0.196667, val accuracy: 0.206000\n",
      "Epoch 5.000000   Loss: 2.302024, Train accuracy: 0.196667, val accuracy: 0.206000\n",
      "Epoch 6.000000   Loss: 2.302057, Train accuracy: 0.196667, val accuracy: 0.206000\n",
      "Epoch 7.000000   Loss: 2.302234, Train accuracy: 0.196667, val accuracy: 0.206000\n",
      "Epoch 8.000000   Loss: 2.300127, Train accuracy: 0.196667, val accuracy: 0.206000\n",
      "Epoch 9.000000   Loss: 2.301736, Train accuracy: 0.196667, val accuracy: 0.206000\n",
      "\n",
      "Cycle 2...\n",
      "Epoch 0.000000   Loss: 2.304545, Train accuracy: 0.113333, val accuracy: 0.147000\n",
      "Epoch 1.000000   Loss: 2.304309, Train accuracy: 0.114444, val accuracy: 0.148000\n",
      "Epoch 2.000000   Loss: 2.304130, Train accuracy: 0.196556, val accuracy: 0.206000\n",
      "Epoch 3.000000   Loss: 2.304206, Train accuracy: 0.196667, val accuracy: 0.206000\n",
      "Epoch 4.000000   Loss: 2.304134, Train accuracy: 0.196667, val accuracy: 0.206000\n",
      "Epoch 5.000000   Loss: 2.304167, Train accuracy: 0.196667, val accuracy: 0.206000\n",
      "Epoch 6.000000   Loss: 2.304255, Train accuracy: 0.196667, val accuracy: 0.206000\n",
      "Epoch 7.000000   Loss: 2.304104, Train accuracy: 0.196667, val accuracy: 0.206000\n",
      "Epoch 8.000000   Loss: 2.304178, Train accuracy: 0.196667, val accuracy: 0.206000\n",
      "Epoch 9.000000   Loss: 2.303361, Train accuracy: 0.196667, val accuracy: 0.206000\n",
      "\n",
      "Cycle 3...\n",
      "Epoch 0.000000   Loss: 2.300418, Train accuracy: 0.196667, val accuracy: 0.206000\n",
      "Epoch 1.000000   Loss: 2.293267, Train accuracy: 0.196667, val accuracy: 0.206000\n",
      "Epoch 2.000000   Loss: 2.281079, Train accuracy: 0.196667, val accuracy: 0.206000\n",
      "Epoch 3.000000   Loss: 2.236033, Train accuracy: 0.196667, val accuracy: 0.206000\n",
      "Epoch 4.000000   Loss: 2.194201, Train accuracy: 0.196667, val accuracy: 0.206000\n",
      "Epoch 5.000000   Loss: 2.220893, Train accuracy: 0.196667, val accuracy: 0.206000\n",
      "Epoch 6.000000   Loss: 2.284224, Train accuracy: 0.196667, val accuracy: 0.206000\n",
      "Epoch 7.000000   Loss: 2.258611, Train accuracy: 0.196667, val accuracy: 0.206000\n",
      "Epoch 8.000000   Loss: 2.228701, Train accuracy: 0.196667, val accuracy: 0.206000\n",
      "Epoch 9.000000   Loss: 2.300599, Train accuracy: 0.196667, val accuracy: 0.206000\n",
      "\n",
      "Cycle 4...\n",
      "Epoch 0.000000   Loss: 2.309401, Train accuracy: 0.196667, val accuracy: 0.206000\n",
      "Epoch 1.000000   Loss: 2.306152, Train accuracy: 0.196667, val accuracy: 0.206000\n",
      "Epoch 2.000000   Loss: 2.291347, Train accuracy: 0.196667, val accuracy: 0.206000\n",
      "Epoch 3.000000   Loss: 2.239262, Train accuracy: 0.196667, val accuracy: 0.206000\n",
      "Epoch 4.000000   Loss: 2.291880, Train accuracy: 0.196667, val accuracy: 0.206000\n",
      "Epoch 5.000000   Loss: 2.167090, Train accuracy: 0.196667, val accuracy: 0.206000\n",
      "Epoch 6.000000   Loss: 2.180131, Train accuracy: 0.196667, val accuracy: 0.206000\n",
      "Epoch 7.000000   Loss: 2.268628, Train accuracy: 0.196667, val accuracy: 0.206000\n",
      "Epoch 8.000000   Loss: 2.213244, Train accuracy: 0.196667, val accuracy: 0.206000\n",
      "Epoch 9.000000   Loss: 2.261780, Train accuracy: 0.196667, val accuracy: 0.206000\n",
      "\n",
      "Cycle 5...\n",
      "Epoch 0.000000   Loss: 2.302418, Train accuracy: 0.144222, val accuracy: 0.134000\n",
      "Epoch 1.000000   Loss: 2.302438, Train accuracy: 0.148222, val accuracy: 0.140000\n",
      "Epoch 2.000000   Loss: 2.302348, Train accuracy: 0.149000, val accuracy: 0.140000\n",
      "Epoch 3.000000   Loss: 2.302499, Train accuracy: 0.197444, val accuracy: 0.209000\n",
      "Epoch 4.000000   Loss: 2.302170, Train accuracy: 0.196667, val accuracy: 0.206000\n",
      "Epoch 5.000000   Loss: 2.301551, Train accuracy: 0.196667, val accuracy: 0.206000\n",
      "Epoch 6.000000   Loss: 2.301776, Train accuracy: 0.196667, val accuracy: 0.206000\n",
      "Epoch 7.000000   Loss: 2.302240, Train accuracy: 0.196667, val accuracy: 0.206000\n",
      "Epoch 8.000000   Loss: 2.301707, Train accuracy: 0.196667, val accuracy: 0.206000\n",
      "Epoch 9.000000   Loss: 2.300872, Train accuracy: 0.196667, val accuracy: 0.206000\n",
      "\n",
      "Cycle 6...\n",
      "Epoch 0.000000   Loss: 2.302693, Train accuracy: 0.062333, val accuracy: 0.060000\n",
      "Epoch 1.000000   Loss: 2.302581, Train accuracy: 0.062333, val accuracy: 0.060000\n",
      "Epoch 2.000000   Loss: 2.302159, Train accuracy: 0.062333, val accuracy: 0.060000\n",
      "Epoch 3.000000   Loss: 2.302325, Train accuracy: 0.062333, val accuracy: 0.060000\n",
      "Epoch 4.000000   Loss: 2.302342, Train accuracy: 0.062333, val accuracy: 0.060000\n",
      "Epoch 5.000000   Loss: 2.302786, Train accuracy: 0.062333, val accuracy: 0.060000\n",
      "Epoch 6.000000   Loss: 2.302254, Train accuracy: 0.062222, val accuracy: 0.060000\n",
      "Epoch 7.000000   Loss: 2.302301, Train accuracy: 0.062222, val accuracy: 0.060000\n",
      "Epoch 8.000000   Loss: 2.302571, Train accuracy: 0.063444, val accuracy: 0.060000\n",
      "Epoch 9.000000   Loss: 2.302226, Train accuracy: 0.064667, val accuracy: 0.065000\n",
      "\n",
      "Cycle 7...\n",
      "Epoch 0.000000   Loss: 2.302544, Train accuracy: 0.098000, val accuracy: 0.098000\n",
      "Epoch 1.000000   Loss: 2.302497, Train accuracy: 0.195889, val accuracy: 0.208000\n",
      "Epoch 2.000000   Loss: 2.302577, Train accuracy: 0.196667, val accuracy: 0.206000\n",
      "Epoch 3.000000   Loss: 2.302046, Train accuracy: 0.196667, val accuracy: 0.206000\n",
      "Epoch 4.000000   Loss: 2.302537, Train accuracy: 0.196667, val accuracy: 0.206000\n",
      "Epoch 5.000000   Loss: 2.302208, Train accuracy: 0.196667, val accuracy: 0.206000\n",
      "Epoch 6.000000   Loss: 2.301853, Train accuracy: 0.196667, val accuracy: 0.206000\n",
      "Epoch 7.000000   Loss: 2.301568, Train accuracy: 0.196667, val accuracy: 0.206000\n",
      "Epoch 8.000000   Loss: 2.302001, Train accuracy: 0.196667, val accuracy: 0.206000\n",
      "Epoch 9.000000   Loss: 2.301680, Train accuracy: 0.196667, val accuracy: 0.206000\n",
      "\n",
      "Cycle 8...\n",
      "Epoch 0.000000   Loss: 2.302131, Train accuracy: 0.186444, val accuracy: 0.195000\n",
      "Epoch 1.000000   Loss: 2.301744, Train accuracy: 0.196667, val accuracy: 0.206000\n",
      "Epoch 2.000000   Loss: 2.302229, Train accuracy: 0.196667, val accuracy: 0.206000\n",
      "Epoch 3.000000   Loss: 2.301801, Train accuracy: 0.196667, val accuracy: 0.206000\n",
      "Epoch 4.000000   Loss: 2.301043, Train accuracy: 0.196667, val accuracy: 0.206000\n",
      "Epoch 5.000000   Loss: 2.301293, Train accuracy: 0.196667, val accuracy: 0.206000\n",
      "Epoch 6.000000   Loss: 2.300893, Train accuracy: 0.196667, val accuracy: 0.206000\n",
      "Epoch 7.000000   Loss: 2.301514, Train accuracy: 0.196667, val accuracy: 0.206000\n",
      "Epoch 8.000000   Loss: 2.300359, Train accuracy: 0.196667, val accuracy: 0.206000\n",
      "Epoch 9.000000   Loss: 2.301269, Train accuracy: 0.196667, val accuracy: 0.206000\n",
      "\n",
      "Cycle 9...\n",
      "Epoch 0.000000   Loss: 2.300659, Train accuracy: 0.196667, val accuracy: 0.206000\n",
      "Epoch 1.000000   Loss: 2.301377, Train accuracy: 0.196667, val accuracy: 0.206000\n",
      "Epoch 2.000000   Loss: 2.302606, Train accuracy: 0.196667, val accuracy: 0.206000\n",
      "Epoch 3.000000   Loss: 2.281936, Train accuracy: 0.196667, val accuracy: 0.206000\n",
      "Epoch 4.000000   Loss: 2.272836, Train accuracy: 0.196667, val accuracy: 0.206000\n",
      "Epoch 5.000000   Loss: 2.238502, Train accuracy: 0.196667, val accuracy: 0.206000\n",
      "Epoch 6.000000   Loss: 2.231035, Train accuracy: 0.196667, val accuracy: 0.206000\n",
      "Epoch 7.000000   Loss: 2.317338, Train accuracy: 0.196667, val accuracy: 0.206000\n",
      "Epoch 8.000000   Loss: 2.245917, Train accuracy: 0.196667, val accuracy: 0.206000\n",
      "Epoch 9.000000   Loss: 2.296742, Train accuracy: 0.196667, val accuracy: 0.206000\n",
      "\n",
      "Cycle 10...\n",
      "Epoch 0.000000   Loss: 2.299224, Train accuracy: 0.196667, val accuracy: 0.206000\n",
      "Epoch 1.000000   Loss: 2.254629, Train accuracy: 0.196667, val accuracy: 0.206000\n",
      "Epoch 2.000000   Loss: 2.305758, Train accuracy: 0.196667, val accuracy: 0.206000\n",
      "Epoch 3.000000   Loss: 2.190858, Train accuracy: 0.196667, val accuracy: 0.206000\n",
      "Epoch 4.000000   Loss: 2.241348, Train accuracy: 0.196667, val accuracy: 0.206000\n",
      "Epoch 5.000000   Loss: 2.250864, Train accuracy: 0.196667, val accuracy: 0.206000\n",
      "Epoch 6.000000   Loss: 2.223320, Train accuracy: 0.196667, val accuracy: 0.206000\n",
      "Epoch 7.000000   Loss: 2.165946, Train accuracy: 0.196667, val accuracy: 0.206000\n",
      "Epoch 8.000000   Loss: 2.151021, Train accuracy: 0.196667, val accuracy: 0.206000\n"
     ]
    },
    {
     "name": "stdout",
     "output_type": "stream",
     "text": [
      "Epoch 9.000000   Loss: 2.077981, Train accuracy: 0.196667, val accuracy: 0.206000\n",
      "\n",
      "Cycle 11...\n",
      "Epoch 0.000000   Loss: 2.302465, Train accuracy: 0.099000, val accuracy: 0.093000\n",
      "Epoch 1.000000   Loss: 2.302379, Train accuracy: 0.099000, val accuracy: 0.093000\n",
      "Epoch 2.000000   Loss: 2.302036, Train accuracy: 0.111667, val accuracy: 0.099000\n",
      "Epoch 3.000000   Loss: 2.302155, Train accuracy: 0.196667, val accuracy: 0.206000\n",
      "Epoch 4.000000   Loss: 2.301525, Train accuracy: 0.196667, val accuracy: 0.206000\n",
      "Epoch 5.000000   Loss: 2.302058, Train accuracy: 0.196667, val accuracy: 0.206000\n",
      "Epoch 6.000000   Loss: 2.301061, Train accuracy: 0.196667, val accuracy: 0.206000\n",
      "Epoch 7.000000   Loss: 2.300715, Train accuracy: 0.196667, val accuracy: 0.206000\n",
      "Epoch 8.000000   Loss: 2.301486, Train accuracy: 0.196667, val accuracy: 0.206000\n",
      "Epoch 9.000000   Loss: 2.301106, Train accuracy: 0.196667, val accuracy: 0.206000\n",
      "\n",
      "Cycle 12...\n",
      "Epoch 0.000000   Loss: 2.302559, Train accuracy: 0.062333, val accuracy: 0.060000\n",
      "Epoch 1.000000   Loss: 2.302635, Train accuracy: 0.062333, val accuracy: 0.060000\n",
      "Epoch 2.000000   Loss: 2.302223, Train accuracy: 0.062333, val accuracy: 0.060000\n",
      "Epoch 3.000000   Loss: 2.302609, Train accuracy: 0.062333, val accuracy: 0.060000\n",
      "Epoch 4.000000   Loss: 2.302864, Train accuracy: 0.062333, val accuracy: 0.060000\n",
      "Epoch 5.000000   Loss: 2.302577, Train accuracy: 0.062333, val accuracy: 0.060000\n",
      "Epoch 6.000000   Loss: 2.302407, Train accuracy: 0.062333, val accuracy: 0.060000\n",
      "Epoch 7.000000   Loss: 2.303001, Train accuracy: 0.062333, val accuracy: 0.060000\n",
      "Epoch 8.000000   Loss: 2.302568, Train accuracy: 0.062333, val accuracy: 0.060000\n",
      "Epoch 9.000000   Loss: 2.302599, Train accuracy: 0.062333, val accuracy: 0.060000\n",
      "\n",
      "Cycle 13...\n",
      "Epoch 0.000000   Loss: 2.304380, Train accuracy: 0.196667, val accuracy: 0.206000\n",
      "Epoch 1.000000   Loss: 2.304252, Train accuracy: 0.196667, val accuracy: 0.206000\n",
      "Epoch 2.000000   Loss: 2.304155, Train accuracy: 0.196667, val accuracy: 0.206000\n",
      "Epoch 3.000000   Loss: 2.303791, Train accuracy: 0.196667, val accuracy: 0.206000\n",
      "Epoch 4.000000   Loss: 2.304225, Train accuracy: 0.196667, val accuracy: 0.206000\n",
      "Epoch 5.000000   Loss: 2.304008, Train accuracy: 0.196667, val accuracy: 0.206000\n",
      "Epoch 6.000000   Loss: 2.304263, Train accuracy: 0.196667, val accuracy: 0.206000\n",
      "Epoch 7.000000   Loss: 2.303690, Train accuracy: 0.196667, val accuracy: 0.206000\n",
      "Epoch 8.000000   Loss: 2.303845, Train accuracy: 0.196667, val accuracy: 0.206000\n",
      "Epoch 9.000000   Loss: 2.304347, Train accuracy: 0.196667, val accuracy: 0.206000\n",
      "\n",
      "Cycle 14...\n",
      "Epoch 0.000000   Loss: 2.224209, Train accuracy: 0.196667, val accuracy: 0.206000\n",
      "Epoch 1.000000   Loss: 1.888345, Train accuracy: 0.291667, val accuracy: 0.299000\n",
      "Epoch 2.000000   Loss: 1.537040, Train accuracy: 0.402889, val accuracy: 0.408000\n",
      "Epoch 3.000000   Loss: 1.436396, Train accuracy: 0.553889, val accuracy: 0.553000\n",
      "Epoch 4.000000   Loss: 1.109844, Train accuracy: 0.628000, val accuracy: 0.627000\n",
      "Epoch 5.000000   Loss: 1.098460, Train accuracy: 0.624889, val accuracy: 0.604000\n",
      "Epoch 6.000000   Loss: 1.102120, Train accuracy: 0.684222, val accuracy: 0.663000\n",
      "Epoch 7.000000   Loss: 1.077316, Train accuracy: 0.709222, val accuracy: 0.676000\n",
      "Epoch 8.000000   Loss: 1.096395, Train accuracy: 0.705778, val accuracy: 0.659000\n",
      "Epoch 9.000000   Loss: 0.593572, Train accuracy: 0.764444, val accuracy: 0.712000\n",
      "\n",
      "Cycle 15...\n",
      "Epoch 0.000000   Loss: 2.312675, Train accuracy: 0.196667, val accuracy: 0.206000\n",
      "Epoch 1.000000   Loss: 2.153864, Train accuracy: 0.197556, val accuracy: 0.205000\n",
      "Epoch 2.000000   Loss: 2.189116, Train accuracy: 0.242000, val accuracy: 0.243000\n",
      "Epoch 3.000000   Loss: 2.015204, Train accuracy: 0.309889, val accuracy: 0.311000\n",
      "Epoch 4.000000   Loss: 1.875384, Train accuracy: 0.379889, val accuracy: 0.383000\n",
      "Epoch 5.000000   Loss: 2.125798, Train accuracy: 0.430111, val accuracy: 0.444000\n",
      "Epoch 6.000000   Loss: 1.964890, Train accuracy: 0.500333, val accuracy: 0.495000\n",
      "Epoch 7.000000   Loss: 1.853091, Train accuracy: 0.516667, val accuracy: 0.504000\n",
      "Epoch 8.000000   Loss: 1.782724, Train accuracy: 0.528778, val accuracy: 0.534000\n",
      "Epoch 9.000000   Loss: 1.822024, Train accuracy: 0.566222, val accuracy: 0.553000\n",
      "best validation accuracy achieved: 0.712000\n"
     ]
    }
   ],
   "source": [
    "# Let's train the best one-hidden-layer network we can\n",
    "\n",
    "from random import choice\n",
    "\n",
    "n_iterations = 15\n",
    "num_epochs = 10\n",
    "learning_rates = [1e-4, 1e-3, 1e-2, 1e-1]\n",
    "reg_strength = [1e-6, 1e-4, 1e-2]\n",
    "learning_rate_decay = [0.888, 0.995, 0.999]\n",
    "hidden_layer_size = [64, 128, 256]\n",
    "batch_size = [64]\n",
    "momentums = [0.1, 0.3, 0.5, 0.7, 0.9]\n",
    "\n",
    "best_classifier = None\n",
    "best_val_accuracy = 0\n",
    "best_params = {}\n",
    "\n",
    "loss_history = []\n",
    "train_history = []\n",
    "val_history = []\n",
    "\n",
    "# TODO find the best hyperparameters to train the network\n",
    "# Don't hesitate to add new values to the arrays above, perform experiments, use any tricks you want\n",
    "# You should expect to get to at least 40% of valudation accuracy\n",
    "# Save loss/train/history of the best classifier to the variables above\n",
    "for i in range(0, n_iterations):    \n",
    "    lr = choice(learning_rates)\n",
    "    reg = choice(reg_strength)\n",
    "    lrd = choice(learning_rate_decay)\n",
    "    hs = choice(hidden_layer_size)\n",
    "    bs = choice(batch_size)\n",
    "    momentum = choice(momentums)\n",
    "    \n",
    "    model = TwoLayerNet(n_input=train_X.shape[1], n_output=10,\n",
    "                        hidden_layer_size=hs, reg=reg)\n",
    "    dataset = Dataset(train_X, train_y, val_X, val_y)\n",
    "    trainer = Trainer(model, dataset, MomentumSGD(momentum=momentum), learning_rate=lr,\n",
    "                      learning_rate_decay=lrd, num_epochs=num_epochs, batch_size=bs)\n",
    "    \n",
    "    print()\n",
    "    print (\"Cycle {}...\".format(i+1))\n",
    "    loss_hist, train_hist, val_hist = trainer.fit()\n",
    "    \n",
    "    if val_hist[-1] > best_val_accuracy:\n",
    "        best_val_accuracy = val_hist[-1]\n",
    "        best_classifier = model\n",
    "        \n",
    "        best_params['learning_rate'] = lr\n",
    "        best_params['reg_strength'] = reg\n",
    "        best_params['learning_rate_decay'] = lrd\n",
    "        best_params['hidden_layer_size'] = hs\n",
    "        best_params['batch_size'] = bs\n",
    "        best_params['momentum'] = momentum\n",
    "        \n",
    "        loss_history = loss_hist\n",
    "        train_history = train_hist\n",
    "        val_history = val_hist\n",
    "\n",
    "print('best validation accuracy achieved: %f' % best_val_accuracy)"
   ]
  },
  {
   "cell_type": "code",
   "execution_count": 22,
   "metadata": {},
   "outputs": [
    {
     "data": {
      "text/plain": [
       "[<matplotlib.lines.Line2D at 0x1cf8792a3c8>]"
      ]
     },
     "execution_count": 22,
     "metadata": {},
     "output_type": "execute_result"
    },
    {
     "data": {
      "image/png": "[encoded data removed]",
      "text/plain": [
       "<Figure size 1080x504 with 2 Axes>"
      ]
     },
     "metadata": {
      "needs_background": "light"
     },
     "output_type": "display_data"
    }
   ],
   "source": [
    "plt.figure(figsize=(15, 7))\n",
    "plt.subplot(211)\n",
    "plt.title(\"Loss\")\n",
    "plt.plot(loss_history)\n",
    "plt.subplot(212)\n",
    "plt.title(\"Train/validation accuracy\")\n",
    "plt.plot(train_history)\n",
    "plt.plot(val_history)"
   ]
  },
  {
   "cell_type": "markdown",
   "metadata": {},
   "source": [
    "# Как обычно, посмотрим, как наша лучшая модель работает на тестовых данных"
   ]
  },
  {
   "cell_type": "code",
   "execution_count": 23,
   "metadata": {},
   "outputs": [
    {
     "name": "stdout",
     "output_type": "stream",
     "text": [
      "Neural net test set accuracy: 0.666000\n"
     ]
    }
   ],
   "source": [
    "test_pred = best_classifier.predict(test_X)\n",
    "test_accuracy = multiclass_accuracy(test_pred, test_y)\n",
    "print('Neural net test set accuracy: %f' % (test_accuracy, ))"
   ]
  },
  {
   "cell_type": "code",
   "execution_count": null,
   "metadata": {},
   "outputs": [],
   "source": []
  }
 ],
 "metadata": {
  "kernelspec": {
   "display_name": "Python 3 (ipykernel)",
   "language": "python",
   "name": "python3"
  },
  "language_info": {
   "codemirror_mode": {
    "name": "ipython",
    "version": 3
   },
   "file_extension": ".py",
   "mimetype": "text/x-python",
   "name": "python",
   "nbconvert_exporter": "python",
   "pygments_lexer": "ipython3",
   "version": "3.7.8"
  }
 },
 "nbformat": 4,
 "nbformat_minor": 2
}
