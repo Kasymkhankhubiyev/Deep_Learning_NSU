{
  "nbformat": 4,
  "nbformat_minor": 0,
  "metadata": {
    "colab": {
      "name": "Копия блокнота \"pytorchCNN.ipynb\"",
      "provenance": [],
      "collapsed_sections": []
    },
    "kernelspec": {
      "name": "python3",
      "display_name": "Python 3"
    },
    "language_info": {
      "name": "python"
    },
    "accelerator": "GPU"
  },
  "cells": [
    {
      "cell_type": "code",
      "source": [
        "from google.colab import drive\n",
        "drive.mount('/content/drive/')"
      ],
      "metadata": {
        "id": "gqHrvhs3szHI",
        "colab": {
          "base_uri": "https://localhost:8080/"
        },
        "outputId": "8becf35e-c998-4d21-8642-754c60ea90e3"
      },
      "execution_count": 1,
      "outputs": [
        {
          "output_type": "stream",
          "name": "stdout",
          "text": [
            "Mounted at /content/drive/\n"
          ]
        }
      ]
    },
    {
      "cell_type": "code",
      "source": [
        "!pip3 install torch torchvision\n",
        "\n",
        "!wget -c http://ufldl.stanford.edu/housenumbers/train_32x32.mat http://ufldl.stanford.edu/housenumbers/test_32x32.mat"
      ],
      "metadata": {
        "id": "3VGf40bNtPUQ",
        "colab": {
          "base_uri": "https://localhost:8080/"
        },
        "outputId": "efae3e65-5ff0-4856-a0f9-3373578b84ac"
      },
      "execution_count": 2,
      "outputs": [
        {
          "output_type": "stream",
          "name": "stdout",
          "text": [
            "Requirement already satisfied: torch in /usr/local/lib/python3.7/dist-packages (1.10.0+cu111)\n",
            "Requirement already satisfied: torchvision in /usr/local/lib/python3.7/dist-packages (0.11.1+cu111)\n",
            "Requirement already satisfied: typing-extensions in /usr/local/lib/python3.7/dist-packages (from torch) (3.10.0.2)\n",
            "Requirement already satisfied: numpy in /usr/local/lib/python3.7/dist-packages (from torchvision) (1.21.5)\n",
            "Requirement already satisfied: pillow!=8.3.0,>=5.3.0 in /usr/local/lib/python3.7/dist-packages (from torchvision) (7.1.2)\n",
            "--2022-04-03 03:59:32--  http://ufldl.stanford.edu/housenumbers/train_32x32.mat\n",
            "Resolving ufldl.stanford.edu (ufldl.stanford.edu)... 171.64.68.10\n",
            "Connecting to ufldl.stanford.edu (ufldl.stanford.edu)|171.64.68.10|:80... connected.\n",
            "HTTP request sent, awaiting response... 200 OK\n",
            "Length: 182040794 (174M) [text/plain]\n",
            "Saving to: ‘train_32x32.mat’\n",
            "\n",
            "train_32x32.mat     100%[===================>] 173.61M  20.7MB/s    in 12s     \n",
            "\n",
            "2022-04-03 03:59:44 (15.0 MB/s) - ‘train_32x32.mat’ saved [182040794/182040794]\n",
            "\n",
            "--2022-04-03 03:59:44--  http://ufldl.stanford.edu/housenumbers/test_32x32.mat\n",
            "Reusing existing connection to ufldl.stanford.edu:80.\n",
            "HTTP request sent, awaiting response... 200 OK\n",
            "Length: 64275384 (61M) [text/plain]\n",
            "Saving to: ‘test_32x32.mat’\n",
            "\n",
            "test_32x32.mat      100%[===================>]  61.30M  21.0MB/s    in 2.9s    \n",
            "\n",
            "2022-04-03 03:59:47 (21.0 MB/s) - ‘test_32x32.mat’ saved [64275384/64275384]\n",
            "\n",
            "FINISHED --2022-04-03 03:59:47--\n",
            "Total wall clock time: 15s\n",
            "Downloaded: 2 files, 235M in 15s (16.2 MB/s)\n"
          ]
        }
      ]
    },
    {
      "cell_type": "code",
      "source": [
        "from collections import namedtuple\n",
        "\n",
        "import matplotlib.pyplot as plt\n",
        "import numpy as np\n",
        "import PIL\n",
        "import torch\n",
        "import torch.nn as nn\n",
        "import torch.optim as optim\n",
        "import torchvision.datasets as dset\n",
        "from torch.utils.data.sampler import SubsetRandomSampler\n",
        "\n",
        "from torchvision import transforms"
      ],
      "metadata": {
        "id": "Sc1d1J7Nta7a"
      },
      "execution_count": 3,
      "outputs": []
    },
    {
      "cell_type": "code",
      "source": [
        "device = torch.device(\"cuda:0\") # Let's make sure GPU is available!"
      ],
      "metadata": {
        "id": "T3TBlhviuC0p"
      },
      "execution_count": 4,
      "outputs": []
    },
    {
      "cell_type": "code",
      "source": [
        "torch.cuda.is_available()"
      ],
      "metadata": {
        "id": "KySuzIWquJMn",
        "colab": {
          "base_uri": "https://localhost:8080/"
        },
        "outputId": "513e9840-b321-4d1a-de61-d1c0b842ad6a"
      },
      "execution_count": 5,
      "outputs": [
        {
          "output_type": "execute_result",
          "data": {
            "text/plain": [
              "True"
            ]
          },
          "metadata": {},
          "execution_count": 5
        }
      ]
    },
    {
      "cell_type": "code",
      "source": [
        "device"
      ],
      "metadata": {
        "id": "8H8I2C6o6dfX",
        "colab": {
          "base_uri": "https://localhost:8080/"
        },
        "outputId": "91532b04-a566-4753-c497-f1729b8e02fb"
      },
      "execution_count": 6,
      "outputs": [
        {
          "output_type": "execute_result",
          "data": {
            "text/plain": [
              "device(type='cuda', index=0)"
            ]
          },
          "metadata": {},
          "execution_count": 6
        }
      ]
    },
    {
      "cell_type": "code",
      "source": [
        "# First, lets load the dataset\n",
        "data_train = dset.SVHN('./', \n",
        "                       transform=transforms.Compose([\n",
        "                           transforms.ToTensor(),\n",
        "                           transforms.Normalize(mean=[0.43,0.44,0.47],\n",
        "                                               std=[0.20,0.20,0.20])                           \n",
        "                       ])\n",
        "                      )\n",
        "data_test = dset.SVHN('./', split='test', transform=transforms.Compose([\n",
        "                           transforms.ToTensor(),\n",
        "                           transforms.Normalize(mean=[0.43,0.44,0.47],\n",
        "                                               std=[0.20,0.20,0.20])                           \n",
        "                       ]))"
      ],
      "metadata": {
        "id": "BVsQi73-6h3U"
      },
      "execution_count": 7,
      "outputs": []
    },
    {
      "cell_type": "code",
      "source": [
        "batch_size = 64\n",
        "\n",
        "data_size = data_train.data.shape[0]\n",
        "validation_split = .2\n",
        "split = int(np.floor(validation_split * data_size))\n",
        "indices = list(range(data_size))\n",
        "np.random.shuffle(indices)\n",
        "\n",
        "train_indices, val_indices = indices[split:], indices[:split]\n",
        "\n",
        "train_sampler = SubsetRandomSampler(train_indices)\n",
        "val_sampler = SubsetRandomSampler(val_indices)\n",
        "\n",
        "train_loader = torch.utils.data.DataLoader(data_train, batch_size=batch_size, \n",
        "                                           sampler=train_sampler)\n",
        "val_loader = torch.utils.data.DataLoader(data_train, batch_size=batch_size,\n",
        "                                         sampler=val_sampler)"
      ],
      "metadata": {
        "id": "oaVc98Aa6nKr"
      },
      "execution_count": 8,
      "outputs": []
    },
    {
      "cell_type": "code",
      "source": [
        "# We'll use a special helper module to shape it into a flat tensor\n",
        "class Flattener(nn.Module):\n",
        "    def forward(self, x):\n",
        "        batch_size, *_ = x.shape\n",
        "        return x.view(batch_size, -1)"
      ],
      "metadata": {
        "id": "tlQg7MgT6qlP"
      },
      "execution_count": 9,
      "outputs": []
    },
    {
      "cell_type": "code",
      "source": [
        "nn_model = nn.Sequential(\n",
        "            nn.Conv2d(3, 64, 3, padding=1),\n",
        "            nn.ReLU(inplace=True),\n",
        "            nn.MaxPool2d(4),\n",
        "            nn.Conv2d(64, 64, 3, padding=1),\n",
        "            nn.ReLU(inplace=True),\n",
        "            nn.MaxPool2d(4),    \n",
        "            Flattener(),\n",
        "            nn.Linear(64*2*2, 10),\n",
        "          )\n",
        "\n",
        "nn_model.type(torch.cuda.FloatTensor)\n",
        "nn_model.to(device)\n",
        "\n",
        "loss = nn.CrossEntropyLoss().type(torch.cuda.FloatTensor)\n",
        "optimizer = optim.SGD(nn_model.parameters(), lr=1e-1, weight_decay=1e-4)"
      ],
      "metadata": {
        "id": "EYa4U4DT6vRT"
      },
      "execution_count": 10,
      "outputs": []
    },
    {
      "cell_type": "code",
      "source": [
        "def compute_accuracy(model, loader):\n",
        "    \"\"\"\n",
        "    Computes accuracy on the dataset wrapped in a loader\n",
        "    \n",
        "    Returns: accuracy as a float value between 0 and 1\n",
        "    \"\"\"\n",
        "    model.eval() # Evaluation mode\n",
        "    # TODO: Copy implementation from previous assignment\n",
        "    # Don't forget to move the data to device before running it through the model!\n",
        "    correct_samples = 0\n",
        "    total_samples = 0\n",
        "    \n",
        "    for (x, y) in loader:\n",
        "        x_gpu, y_gpu = x.to(device), y.to(device)\n",
        "        prediction = model(x_gpu)\n",
        "        indices = torch.argmax(prediction, 1)\n",
        "        correct_samples += torch.sum(indices == y_gpu)\n",
        "        total_samples += y_gpu.shape[0]\n",
        "        \n",
        "    accuracy = float(correct_samples) / total_samples\n",
        "    \n",
        "    return accuracy\n"
      ],
      "metadata": {
        "id": "8ocOE8DLi7T7"
      },
      "execution_count": 11,
      "outputs": []
    },
    {
      "cell_type": "code",
      "source": [
        "def train_model(model, train_loader, val_loader, loss, optimizer, num_epochs):    \n",
        "    loss_history = []\n",
        "    train_history = []\n",
        "    val_history = []\n",
        "    for epoch in range(num_epochs):\n",
        "        model.train() # Enter train mode\n",
        "        \n",
        "        loss_accum = 0\n",
        "        correct_samples = 0\n",
        "        total_samples = 0\n",
        "        for i_step, (x, y) in enumerate(train_loader):\n",
        "          \n",
        "            x_gpu = x.to(device)\n",
        "            y_gpu = y.to(device)\n",
        "            prediction = model(x_gpu)    \n",
        "            loss_value = loss(prediction, y_gpu)\n",
        "            optimizer.zero_grad()\n",
        "            loss_value.backward()\n",
        "            optimizer.step()\n",
        "            \n",
        "            _, indices = torch.max(prediction, 1)\n",
        "            correct_samples += torch.sum(indices == y_gpu)\n",
        "            total_samples += y.shape[0]\n",
        "            \n",
        "            loss_accum += loss_value\n",
        "\n",
        "        ave_loss = loss_accum / i_step\n",
        "        train_accuracy = float(correct_samples) / total_samples\n",
        "        val_accuracy = compute_accuracy(model, val_loader)\n",
        "        \n",
        "        loss_history.append(float(ave_loss))\n",
        "        train_history.append(train_accuracy)\n",
        "        val_history.append(val_accuracy)\n",
        "        \n",
        "        print(\"Average loss: %f, Train accuracy: %f, Val accuracy: %f\" % (ave_loss, train_accuracy, val_accuracy))\n",
        "        \n",
        "    return loss_history, train_history, val_history"
      ],
      "metadata": {
        "id": "DQVuZzFvi8hY"
      },
      "execution_count": 19,
      "outputs": []
    },
    {
      "cell_type": "code",
      "source": [
        "loss_history, train_history, val_history = train_model(nn_model, train_loader, val_loader, loss, optimizer, 5)"
      ],
      "metadata": {
        "id": "7COAUdH9i_uX",
        "colab": {
          "base_uri": "https://localhost:8080/"
        },
        "outputId": "ba1b216c-0fd6-49a4-9f5f-622a2487b055"
      },
      "execution_count": 20,
      "outputs": [
        {
          "output_type": "stream",
          "name": "stdout",
          "text": [
            "Average loss: 0.759883, Train accuracy: 0.768351, Val accuracy: 0.768889\n",
            "Average loss: 0.615252, Train accuracy: 0.814814, Val accuracy: 0.811617\n",
            "Average loss: 0.560076, Train accuracy: 0.832116, Val accuracy: 0.831479\n",
            "Average loss: 0.523159, Train accuracy: 0.844965, Val accuracy: 0.823766\n",
            "Average loss: 0.496309, Train accuracy: 0.852472, Val accuracy: 0.855095\n"
          ]
        }
      ]
    },
    {
      "cell_type": "code",
      "source": [
        "tfs = transforms.Compose([\n",
        "    transforms.ColorJitter(hue=.50, saturation=.50),\n",
        "    transforms.RandomHorizontalFlip(),\n",
        "    transforms.RandomVerticalFlip(),\n",
        "    transforms.RandomRotation(50, resample=PIL.Image.BILINEAR),\n",
        "    transforms.ToTensor(),\n",
        "    transforms.Normalize(mean=[0.43,0.44,0.47], std=[0.20,0.20,0.20])                           \n",
        "])\n",
        "\n",
        "# Create augmented train dataset\n",
        "data_aug_train = dset.SVHN('./', transform=tfs)\n",
        "\n",
        "train_aug_loader = torch.utils.data.DataLoader(data_aug_train, batch_size=batch_size,\n",
        "                                               sampler=train_sampler)"
      ],
      "metadata": {
        "id": "Pzd99AJ3jCtL",
        "colab": {
          "base_uri": "https://localhost:8080/"
        },
        "outputId": "894bc63b-0bc6-454f-bae3-82743811bfcd"
      },
      "execution_count": 22,
      "outputs": [
        {
          "output_type": "stream",
          "name": "stderr",
          "text": [
            "/usr/local/lib/python3.7/dist-packages/torchvision/transforms/transforms.py:1249: UserWarning: Argument resample is deprecated and will be removed since v0.10.0. Please, use interpolation instead\n",
            "  \"Argument resample is deprecated and will be removed since v0.10.0. Please, use interpolation instead\"\n"
          ]
        }
      ]
    },
    {
      "cell_type": "code",
      "source": [
        "# TODO: Visualize some augmented images!\n",
        "# hint: you can create new datasets and loaders to accomplish this\n",
        "\n",
        "# Based on the visualizations, should we keep all the augmentations?\n",
        "\n",
        "tfs = transforms.Compose([\n",
        "    transforms.ColorJitter(hue=.20, saturation=.20),\n",
        "    transforms.RandomHorizontalFlip(),\n",
        "    transforms.RandomVerticalFlip(),\n",
        "    transforms.RandomRotation(10, resample=PIL.Image.BILINEAR),\n",
        "])\n",
        "\n",
        "data_aug_vis = dset.SVHN('./', transform=tfs)\n",
        "\n",
        "plt.figure(figsize=(30, 3))\n",
        "\n",
        "for i, (x, y) in enumerate(data_aug_vis):\n",
        "    if i == 10:\n",
        "        break\n",
        "    plt.subplot(1, 10, i+1)\n",
        "    plt.grid(False)\n",
        "    plt.imshow(x)\n",
        "    plt.axis('off')"
      ],
      "metadata": {
        "id": "shbX8eL5jGhw",
        "colab": {
          "base_uri": "https://localhost:8080/",
          "height": 202
        },
        "outputId": "a1c1d8ef-1c87-45de-d587-ac814ecde39b"
      },
      "execution_count": 23,
      "outputs": [
        {
          "output_type": "stream",
          "name": "stderr",
          "text": [
            "/usr/local/lib/python3.7/dist-packages/torchvision/transforms/transforms.py:1249: UserWarning: Argument resample is deprecated and will be removed since v0.10.0. Please, use interpolation instead\n",
            "  \"Argument resample is deprecated and will be removed since v0.10.0. Please, use interpolation instead\"\n"
          ]
        },
        {
          "output_type": "display_data",
          "data": {
            "text/plain": [
              "<Figure size 2160x216 with 10 Axes>"
            ],
            "image/png": "[encoded data removed]"
          },
          "metadata": {
            "needs_background": "light"
          }
        }
      ]
    },
    {
      "cell_type": "code",
      "source": [
        "# TODO: Add good augmentations\n",
        "tfs_for_vis = transforms.Compose([\n",
        "    transforms.ColorJitter(hue=.50, saturation=.50, brightness=0.50, contrast=0.50),\n",
        "    transforms.RandomRotation(10, resample=PIL.Image.BILINEAR),\n",
        "])\n",
        "\n",
        "train_aug_vis = dset.SVHN('./', transform=tfs_for_vis)\n",
        "\n",
        "plt.figure(figsize=(30, 3))\n",
        "\n",
        "for i, (x, y) in enumerate(train_aug_vis):\n",
        "    if i == 10:\n",
        "        break\n",
        "    plt.subplot(1, 10, i+1)\n",
        "    plt.grid(False)\n",
        "    plt.imshow(x)\n",
        "    plt.axis('off')"
      ],
      "metadata": {
        "id": "GT92WXVWjJ1V",
        "colab": {
          "base_uri": "https://localhost:8080/",
          "height": 202
        },
        "outputId": "dca7ae35-3fc2-4ec9-dc49-2b18fc99efae"
      },
      "execution_count": 24,
      "outputs": [
        {
          "output_type": "stream",
          "name": "stderr",
          "text": [
            "/usr/local/lib/python3.7/dist-packages/torchvision/transforms/transforms.py:1249: UserWarning: Argument resample is deprecated and will be removed since v0.10.0. Please, use interpolation instead\n",
            "  \"Argument resample is deprecated and will be removed since v0.10.0. Please, use interpolation instead\"\n"
          ]
        },
        {
          "output_type": "display_data",
          "data": {
            "text/plain": [
              "<Figure size 2160x216 with 10 Axes>"
            ],
            "image/png": "[encoded data removed]"
          },
          "metadata": {
            "needs_background": "light"
          }
        }
      ]
    },
    {
      "cell_type": "code",
      "source": [
        "tfs_for_train = transforms.Compose([\n",
        "    transforms.ColorJitter(hue=.50, saturation=.50, brightness=0.50, contrast=0.50),\n",
        "    transforms.RandomRotation(10, resample=PIL.Image.BILINEAR),\n",
        "    transforms.ToTensor(),\n",
        "    transforms.Normalize(mean=[0.43,0.44,0.47], std=[0.20,0.20,0.20])                           \n",
        "])\n",
        "\n",
        "# TODO create new instances of loaders with the augmentations you chose\n",
        "train_aug_data = dset.SVHN('./', transform=tfs_for_train)\n",
        "train_aug_loader = torch.utils.data.DataLoader(train_aug_data, batch_size=batch_size, \n",
        "                                               sampler=train_sampler)"
      ],
      "metadata": {
        "id": "RjHB0EKNjN8o",
        "colab": {
          "base_uri": "https://localhost:8080/"
        },
        "outputId": "2c98f8d4-dc16-4fc6-ddd7-f4caa5711a3b"
      },
      "execution_count": 25,
      "outputs": [
        {
          "output_type": "stream",
          "name": "stderr",
          "text": [
            "/usr/local/lib/python3.7/dist-packages/torchvision/transforms/transforms.py:1249: UserWarning: Argument resample is deprecated and will be removed since v0.10.0. Please, use interpolation instead\n",
            "  \"Argument resample is deprecated and will be removed since v0.10.0. Please, use interpolation instead\"\n"
          ]
        }
      ]
    },
    {
      "cell_type": "code",
      "source": [
        "# Finally, let's train with augmentations!\n",
        "# Note we shouldn't use augmentations on validation\n",
        "\n",
        "loss_history, train_history, val_history = train_model(nn_model, train_aug_loader, val_loader, loss, optimizer, 5)"
      ],
      "metadata": {
        "id": "iv5RwG3IjQPK",
        "colab": {
          "base_uri": "https://localhost:8080/"
        },
        "outputId": "bc67b5a1-61c5-4919-8136-e649682aea79"
      },
      "execution_count": 26,
      "outputs": [
        {
          "output_type": "stream",
          "name": "stdout",
          "text": [
            "Average loss: 0.715701, Train accuracy: 0.782599, Val accuracy: 0.801310\n",
            "Average loss: 0.658235, Train accuracy: 0.800532, Val accuracy: 0.831479\n",
            "Average loss: 0.632137, Train accuracy: 0.811384, Val accuracy: 0.842195\n",
            "Average loss: 0.612155, Train accuracy: 0.817288, Val accuracy: 0.854003\n",
            "Average loss: 0.597643, Train accuracy: 0.821230, Val accuracy: 0.851819\n"
          ]
        }
      ]
    },
    {
      "cell_type": "markdown",
      "source": [
        "**LeNet**"
      ],
      "metadata": {
        "id": "63u-LzimjTCo"
      }
    },
    {
      "cell_type": "code",
      "source": [
        "# TODO: Implement LeNet-like architecture for SVHN task\n",
        "lenet_model = nn.Sequential(\n",
        "                nn.Conv2d(3, 6, 5),\n",
        "                nn.ReLU(inplace=True),\n",
        "                nn.MaxPool2d(2),\n",
        "                nn.Conv2d(6, 16, 5),\n",
        "                nn.ReLU(inplace=True),\n",
        "                nn.MaxPool2d(2),    \n",
        "                Flattener(),\n",
        "                nn.Linear(400, 120),\n",
        "                nn.ReLU(inplace=True),\n",
        "                nn.Linear(120, 84),\n",
        "                nn.ReLU(inplace=True),\n",
        "                nn.Linear(84, 10),\n",
        "                nn.LogSoftmax(dim=-1)\n",
        "          )\n",
        "\n",
        "lenet_model.type(torch.cuda.FloatTensor)\n",
        "lenet_model.to(device)\n",
        "\n",
        "loss = nn.CrossEntropyLoss().type(torch.cuda.FloatTensor)\n",
        "optimizer = optim.SGD(lenet_model.parameters(), lr=1e-1, weight_decay=1e-4)"
      ],
      "metadata": {
        "id": "BbgEgbZCjYWZ"
      },
      "execution_count": 27,
      "outputs": []
    },
    {
      "cell_type": "code",
      "source": [
        "# Let's train it!\n",
        "loss_history, train_history, val_history = train_model(lenet_model, train_aug_loader, val_loader, loss, optimizer, 10)"
      ],
      "metadata": {
        "id": "kUjET24rjbG7",
        "colab": {
          "base_uri": "https://localhost:8080/"
        },
        "outputId": "07a76681-3581-43d5-eaf1-b02bea278765"
      },
      "execution_count": 28,
      "outputs": [
        {
          "output_type": "stream",
          "name": "stdout",
          "text": [
            "Average loss: 1.308379, Train accuracy: 0.569344, Val accuracy: 0.820558\n",
            "Average loss: 0.598305, Train accuracy: 0.820650, Val accuracy: 0.856256\n",
            "Average loss: 0.505534, Train accuracy: 0.849350, Val accuracy: 0.876254\n",
            "Average loss: 0.450678, Train accuracy: 0.864007, Val accuracy: 0.868268\n",
            "Average loss: 0.422769, Train accuracy: 0.872778, Val accuracy: 0.884650\n",
            "Average loss: 0.399801, Train accuracy: 0.881736, Val accuracy: 0.890792\n",
            "Average loss: 0.376167, Train accuracy: 0.887315, Val accuracy: 0.889427\n",
            "Average loss: 0.367578, Train accuracy: 0.890404, Val accuracy: 0.891543\n",
            "Average loss: 0.354701, Train accuracy: 0.893629, Val accuracy: 0.894751\n",
            "Average loss: 0.344752, Train accuracy: 0.897041, Val accuracy: 0.892294\n"
          ]
        }
      ]
    },
    {
      "cell_type": "markdown",
      "source": [
        "Подбор Гиперпараметров"
      ],
      "metadata": {
        "id": "b8cC_ilijbm1"
      }
    },
    {
      "cell_type": "code",
      "source": [
        "# The key hyperparameters we're going to tune are learning speed, annealing rate and regularization\n",
        "# We also encourage you to try different optimizers as well\n",
        "\n",
        "Hyperparams = namedtuple(\"Hyperparams\", ['learning_rate', 'reg'])\n",
        "RunResult = namedtuple(\"RunResult\", ['model', 'train_history', 'val_history', 'final_val_accuracy'])\n",
        "\n",
        "learning_rates = [1e0, 1e-1, 1e-3, 1e-4] #,1e-2\n",
        "regularizers = [1e-3, 1e-4, 1e-7] #, 1e-5\n",
        "\n",
        "batch_size = 64\n",
        "epoch_num = 5\n",
        "\n",
        "# Record all the runs here\n",
        "# Key should be Hyperparams and values should be RunResult\n",
        "run_record = {} \n",
        "\n",
        "# TODO: Use grid search or random search and record all runs in run_record dictionnary \n",
        "# Important: perform search in logarithmic space!\n",
        "i = 0\n",
        "for lr in learning_rates:\n",
        "    for reg in regularizers:\n",
        "        i += 1\n",
        "        print('Cycle: {0} | LR: {1} | REG: {2}'.format(i, lr, reg))\n",
        "\n",
        "        lenet_model = nn.Sequential(\n",
        "                        nn.Conv2d(3, 6, 5),\n",
        "                        nn.ReLU(inplace=True),\n",
        "                        nn.MaxPool2d(2),\n",
        "                        nn.Conv2d(6, 16, 5),\n",
        "                        nn.ReLU(inplace=True),\n",
        "                        nn.MaxPool2d(2),    \n",
        "                        Flattener(),\n",
        "                        nn.Linear(400, 120),\n",
        "                        nn.ReLU(inplace=True),\n",
        "                        nn.Linear(120, 84),\n",
        "                        nn.ReLU(inplace=True),\n",
        "                        nn.Linear(84, 10),\n",
        "                        nn.LogSoftmax(dim=-1)\n",
        "                  )\n",
        "\n",
        "        lenet_model.type(torch.cuda.FloatTensor)\n",
        "        lenet_model.to(device)\n",
        "\n",
        "        loss = nn.CrossEntropyLoss().type(torch.cuda.FloatTensor)\n",
        "        optimizer = optim.SGD(lenet_model.parameters(), lr=lr, weight_decay=reg)\n",
        "\n",
        "        loss_history, train_history, val_history = train_model(lenet_model,\n",
        "                                                               train_aug_loader, val_loader,\n",
        "                                                               loss, optimizer, epoch_num)\n",
        "\n",
        "        hp = Hyperparams(lr, reg)\n",
        "        rr = RunResult(lenet_model, loss_history, val_history, val_history[-1])\n",
        "        run_record[hp] = rr"
      ],
      "metadata": {
        "id": "b1ouMQpvjeBQ",
        "colab": {
          "base_uri": "https://localhost:8080/"
        },
        "outputId": "1fb8a0b9-88dc-4216-8ea2-425440c1cbe1"
      },
      "execution_count": 29,
      "outputs": [
        {
          "output_type": "stream",
          "name": "stdout",
          "text": [
            "Cycle: 1 | LR: 1.0 | REG: 0.001\n",
            "Average loss: 2.238943, Train accuracy: 0.190765, Val accuracy: 0.186881\n",
            "Average loss: 2.242504, Train accuracy: 0.189435, Val accuracy: 0.186881\n",
            "Average loss: 2.242240, Train accuracy: 0.188633, Val accuracy: 0.186881\n",
            "Average loss: 2.242546, Train accuracy: 0.188940, Val accuracy: 0.186881\n",
            "Average loss: 2.242509, Train accuracy: 0.188991, Val accuracy: 0.186881\n",
            "Cycle: 2 | LR: 1.0 | REG: 0.0001\n",
            "Average loss: 2.241173, Train accuracy: 0.190953, Val accuracy: 0.186950\n",
            "Average loss: 2.238297, Train accuracy: 0.191994, Val accuracy: 0.186881\n",
            "Average loss: 2.242128, Train accuracy: 0.189025, Val accuracy: 0.186881\n",
            "Average loss: 2.242432, Train accuracy: 0.188974, Val accuracy: 0.186881\n",
            "Average loss: 2.242950, Train accuracy: 0.189690, Val accuracy: 0.186881\n",
            "Cycle: 3 | LR: 1.0 | REG: 1e-07\n",
            "Average loss: nan, Train accuracy: 0.093165, Val accuracy: 0.065183\n",
            "Average loss: nan, Train accuracy: 0.068133, Val accuracy: 0.065183\n",
            "Average loss: nan, Train accuracy: 0.068133, Val accuracy: 0.065183\n",
            "Average loss: nan, Train accuracy: 0.068133, Val accuracy: 0.065183\n",
            "Average loss: nan, Train accuracy: 0.068133, Val accuracy: 0.065183\n",
            "Cycle: 4 | LR: 0.1 | REG: 0.001\n",
            "Average loss: 1.753056, Train accuracy: 0.392076, Val accuracy: 0.767524\n",
            "Average loss: 0.676862, Train accuracy: 0.800686, Val accuracy: 0.841308\n",
            "Average loss: 0.539174, Train accuracy: 0.841023, Val accuracy: 0.849908\n",
            "Average loss: 0.483072, Train accuracy: 0.855970, Val accuracy: 0.869429\n",
            "Average loss: 0.439934, Train accuracy: 0.868256, Val accuracy: 0.883830\n",
            "Cycle: 5 | LR: 0.1 | REG: 0.0001\n",
            "Average loss: 1.517745, Train accuracy: 0.486230, Val accuracy: 0.800082\n",
            "Average loss: 0.623739, Train accuracy: 0.814012, Val accuracy: 0.854754\n",
            "Average loss: 0.510235, Train accuracy: 0.847200, Val accuracy: 0.868678\n",
            "Average loss: 0.458984, Train accuracy: 0.861209, Val accuracy: 0.875981\n",
            "Average loss: 0.419453, Train accuracy: 0.874399, Val accuracy: 0.872568\n",
            "Cycle: 6 | LR: 0.1 | REG: 1e-07\n",
            "Average loss: 1.660887, Train accuracy: 0.429905, Val accuracy: 0.790458\n",
            "Average loss: 0.680467, Train accuracy: 0.797256, Val accuracy: 0.804518\n",
            "Average loss: 0.540131, Train accuracy: 0.839880, Val accuracy: 0.859259\n",
            "Average loss: 0.477081, Train accuracy: 0.857267, Val accuracy: 0.873387\n",
            "Average loss: 0.440542, Train accuracy: 0.869314, Val accuracy: 0.888335\n",
            "Cycle: 7 | LR: 0.001 | REG: 0.001\n",
            "Average loss: 2.297999, Train accuracy: 0.186653, Val accuracy: 0.186881\n",
            "Average loss: 2.281988, Train accuracy: 0.189793, Val accuracy: 0.186881\n",
            "Average loss: 2.268662, Train accuracy: 0.189793, Val accuracy: 0.186881\n",
            "Average loss: 2.256983, Train accuracy: 0.189793, Val accuracy: 0.186881\n",
            "Average loss: 2.246861, Train accuracy: 0.189793, Val accuracy: 0.186881\n",
            "Cycle: 8 | LR: 0.001 | REG: 0.0001\n",
            "Average loss: 2.305720, Train accuracy: 0.142460, Val accuracy: 0.186881\n",
            "Average loss: 2.283563, Train accuracy: 0.189793, Val accuracy: 0.186881\n",
            "Average loss: 2.263743, Train accuracy: 0.189793, Val accuracy: 0.186881\n",
            "Average loss: 2.251297, Train accuracy: 0.189793, Val accuracy: 0.186881\n",
            "Average loss: 2.246114, Train accuracy: 0.189793, Val accuracy: 0.186881\n",
            "Cycle: 9 | LR: 0.001 | REG: 1e-07\n",
            "Average loss: 2.304661, Train accuracy: 0.144354, Val accuracy: 0.145041\n",
            "Average loss: 2.287157, Train accuracy: 0.144354, Val accuracy: 0.145041\n",
            "Average loss: 2.273120, Train accuracy: 0.144490, Val accuracy: 0.145997\n",
            "Average loss: 2.261310, Train accuracy: 0.166826, Val accuracy: 0.185380\n",
            "Average loss: 2.251964, Train accuracy: 0.187814, Val accuracy: 0.186677\n",
            "Cycle: 10 | LR: 0.0001 | REG: 0.001\n",
            "Average loss: 2.295883, Train accuracy: 0.153261, Val accuracy: 0.157805\n",
            "Average loss: 2.293937, Train accuracy: 0.172781, Val accuracy: 0.178691\n",
            "Average loss: 2.292003, Train accuracy: 0.184145, Val accuracy: 0.185516\n",
            "Average loss: 2.290145, Train accuracy: 0.188394, Val accuracy: 0.186608\n",
            "Average loss: 2.288273, Train accuracy: 0.189520, Val accuracy: 0.186881\n",
            "Cycle: 11 | LR: 0.0001 | REG: 0.0001\n",
            "Average loss: 2.309098, Train accuracy: 0.068628, Val accuracy: 0.066275\n",
            "Average loss: 2.307096, Train accuracy: 0.070914, Val accuracy: 0.071872\n",
            "Average loss: 2.305030, Train accuracy: 0.078524, Val accuracy: 0.081701\n",
            "Average loss: 2.303044, Train accuracy: 0.095912, Val accuracy: 0.104430\n",
            "Average loss: 2.301047, Train accuracy: 0.120363, Val accuracy: 0.136509\n",
            "Cycle: 12 | LR: 0.0001 | REG: 1e-07\n",
            "Average loss: 2.303430, Train accuracy: 0.079412, Val accuracy: 0.072009\n",
            "Average loss: 2.300940, Train accuracy: 0.079463, Val accuracy: 0.071667\n",
            "Average loss: 2.298537, Train accuracy: 0.079514, Val accuracy: 0.071463\n",
            "Average loss: 2.296217, Train accuracy: 0.092175, Val accuracy: 0.101427\n",
            "Average loss: 2.293877, Train accuracy: 0.146726, Val accuracy: 0.166337\n"
          ]
        }
      ]
    },
    {
      "cell_type": "code",
      "source": [
        "best_val_accuracy = None\n",
        "best_hyperparams = None\n",
        "best_run = None\n",
        "\n",
        "for hyperparams, run_result in run_record.items():\n",
        "    if best_val_accuracy is None or best_val_accuracy < run_result.final_val_accuracy:\n",
        "        best_val_accuracy = run_result.final_val_accuracy\n",
        "        best_hyperparams = hyperparams\n",
        "        best_run = run_result\n",
        "        \n",
        "print(\"Best validation accuracy: %4.2f, best hyperparams: %s\" % (best_val_accuracy, best_hyperparams))"
      ],
      "metadata": {
        "id": "DqL83q_mjnvL",
        "colab": {
          "base_uri": "https://localhost:8080/"
        },
        "outputId": "6fa61651-bc83-41b5-f3e8-2f4adedb23bf"
      },
      "execution_count": 30,
      "outputs": [
        {
          "output_type": "stream",
          "name": "stdout",
          "text": [
            "Best validation accuracy: 0.89, best hyperparams: Hyperparams(learning_rate=0.1, reg=1e-07)\n"
          ]
        }
      ]
    },
    {
      "cell_type": "markdown",
      "source": [
        "Свободное упражнение"
      ],
      "metadata": {
        "id": "viob_rBdj0Dl"
      }
    },
    {
      "cell_type": "code",
      "source": [
        "# TODO: Overtake LeNet!\n",
        "in_channels = 3\n",
        "conv1_channels = 18\n",
        "conv2_channels = 24\n",
        "kernel_size = 5\n",
        "linear1_size = 24*5*5\n",
        "linear2_size = 200\n",
        "num_output_classes = 10\n",
        "\n",
        "cnn_model = nn.Sequential(\n",
        "                nn.Conv2d(in_channels, conv1_channels, kernel_size),\n",
        "                nn.BatchNorm2d(conv1_channels),\n",
        "                nn.ReLU(inplace=True),\n",
        "                nn.MaxPool2d(2),\n",
        "                nn.Conv2d(conv1_channels, conv2_channels, kernel_size),\n",
        "                nn.BatchNorm2d(conv2_channels),\n",
        "                nn.ReLU(inplace=True),\n",
        "                nn.MaxPool2d(2),\n",
        "                Flattener(),\n",
        "                nn.Linear(linear1_size, linear2_size),\n",
        "                nn.BatchNorm1d(linear2_size),\n",
        "                nn.ReLU(inplace=True),\n",
        "                nn.Linear(linear2_size, num_output_classes)\n",
        "          )\n",
        "\n",
        "cnn_model.type(torch.cuda.FloatTensor)\n",
        "cnn_model.to(device)\n",
        "\n",
        "loss = nn.CrossEntropyLoss().type(torch.cuda.FloatTensor)\n",
        "#optimizer = optim.Adam(cnn_model.parameters(), lr=1e-2, weight_decay=1e-3, amsgrad=True)\n",
        "optimizer = optim.SGD(cnn_model.parameters(), lr=1e-2, weight_decay=1e-3)"
      ],
      "metadata": {
        "id": "stVb6K7pj1wd"
      },
      "execution_count": 31,
      "outputs": []
    },
    {
      "cell_type": "code",
      "source": [
        "loss_history, train_history, val_history = train_model(cnn_model, train_aug_loader, val_loader, loss, optimizer, 15)"
      ],
      "metadata": {
        "id": "myGgrtogj4bx",
        "colab": {
          "base_uri": "https://localhost:8080/"
        },
        "outputId": "7db4a489-939e-43ac-9c95-49a5af1ab868"
      },
      "execution_count": 32,
      "outputs": [
        {
          "output_type": "stream",
          "name": "stdout",
          "text": [
            "Average loss: 1.226262, Train accuracy: 0.626113, Val accuracy: 0.811071\n",
            "Average loss: 0.665480, Train accuracy: 0.803467, Val accuracy: 0.840489\n",
            "Average loss: 0.573579, Train accuracy: 0.827356, Val accuracy: 0.872910\n",
            "Average loss: 0.531025, Train accuracy: 0.839777, Val accuracy: 0.878507\n",
            "Average loss: 0.492127, Train accuracy: 0.853257, Val accuracy: 0.880759\n",
            "Average loss: 0.466376, Train accuracy: 0.860048, Val accuracy: 0.887380\n",
            "Average loss: 0.444792, Train accuracy: 0.866174, Val accuracy: 0.890315\n",
            "Average loss: 0.424965, Train accuracy: 0.872863, Val accuracy: 0.898710\n",
            "Average loss: 0.414509, Train accuracy: 0.876480, Val accuracy: 0.897550\n",
            "Average loss: 0.398288, Train accuracy: 0.881992, Val accuracy: 0.904512\n",
            "Average loss: 0.383874, Train accuracy: 0.886121, Val accuracy: 0.905740\n",
            "Average loss: 0.376558, Train accuracy: 0.887861, Val accuracy: 0.905399\n",
            "Average loss: 0.364131, Train accuracy: 0.892400, Val accuracy: 0.906832\n",
            "Average loss: 0.355863, Train accuracy: 0.895591, Val accuracy: 0.911337\n",
            "Average loss: 0.347951, Train accuracy: 0.897212, Val accuracy: 0.909494\n"
          ]
        }
      ]
    },
    {
      "cell_type": "code",
      "source": [
        "# and 5 epochs more\n",
        "loss_history, train_history, val_history = train_model(cnn_model, train_aug_loader, val_loader, loss, optimizer, 5)"
      ],
      "metadata": {
        "id": "NDVHrFcrj7F5",
        "colab": {
          "base_uri": "https://localhost:8080/"
        },
        "outputId": "3a068b0c-8a81-4c13-cbcf-529b87795494"
      },
      "execution_count": 33,
      "outputs": [
        {
          "output_type": "stream",
          "name": "stdout",
          "text": [
            "Average loss: 0.341647, Train accuracy: 0.899652, Val accuracy: 0.902259\n",
            "Average loss: 0.331269, Train accuracy: 0.902024, Val accuracy: 0.910040\n",
            "Average loss: 0.328562, Train accuracy: 0.902774, Val accuracy: 0.916661\n",
            "Average loss: 0.319583, Train accuracy: 0.905300, Val accuracy: 0.910859\n",
            "Average loss: 0.313146, Train accuracy: 0.907484, Val accuracy: 0.916456\n"
          ]
        }
      ]
    },
    {
      "cell_type": "code",
      "source": [
        "# TODO Write the code to compute accuracy on test set\n",
        "test_loader = torch.utils.data.DataLoader(data_test, batch_size=batch_size)\n",
        "final_test_accuracy = compute_accuracy(cnn_model, test_loader)\n",
        "print(\"Final test accuracy -\", final_test_accuracy)"
      ],
      "metadata": {
        "id": "-EJFXMzsj-ON",
        "colab": {
          "base_uri": "https://localhost:8080/"
        },
        "outputId": "e45ce328-3e49-4035-b7f4-b1d647cd42a9"
      },
      "execution_count": 34,
      "outputs": [
        {
          "output_type": "stream",
          "name": "stdout",
          "text": [
            "Final test accuracy - 0.9109941610325752\n"
          ]
        }
      ]
    },
    {
      "cell_type": "code",
      "source": [
        ""
      ],
      "metadata": {
        "id": "y89stg_dDneJ"
      },
      "execution_count": null,
      "outputs": []
    }
  ]
}